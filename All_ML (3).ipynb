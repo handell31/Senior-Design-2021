{
 "cells": [
  {
   "cell_type": "code",
   "execution_count": 1,
   "metadata": {},
   "outputs": [],
   "source": [
    "import pandas as pd \n",
    "import time as time \n",
    "import numpy as np\n",
    "import matplotlib.pyplot as plt\n",
    "from sklearn.discriminant_analysis import LinearDiscriminantAnalysis as LDA\n",
    "from sklearn.preprocessing import StandardScaler\n",
    "from sklearn import datasets\n",
    "from nba_api.stats.endpoints import playercareerstats \n",
    "from nba_api.stats.static import players\n",
    "%matplotlib inline\n",
    "import plotly.express as px"
   ]
  },
  {
   "cell_type": "code",
   "execution_count": 2,
   "metadata": {},
   "outputs": [],
   "source": [
    "player_dict = players.get_players()\n",
    "def all_player_ids(player_dict):\n",
    "    i = 0\n",
    "    id_array=[]\n",
    "    for player in player_dict:  \n",
    "        if player['is_active'] == True:\n",
    "            P_id = player['id']\n",
    "            id_array.append(P_id)\n",
    "            i = i+1\n",
    "    return id_array"
   ]
  },
  {
   "cell_type": "code",
   "execution_count": 3,
   "metadata": {},
   "outputs": [],
   "source": [
    "nba_ids = all_player_ids(player_dict)"
   ]
  },
  {
   "cell_type": "code",
   "execution_count": 4,
   "metadata": {},
   "outputs": [
    {
     "data": {
      "text/plain": [
       "[203500,\n",
       " 1628389,\n",
       " 200746,\n",
       " 1629734,\n",
       " 1629638,\n",
       " 1628960,\n",
       " 1628386,\n",
       " 1628443,\n",
       " 202329,\n",
       " 1626147,\n",
       " 203937,\n",
       " 201583,\n",
       " 203507,\n",
       " 1628961,\n",
       " 203648,\n",
       " 2546,\n",
       " 1628384,\n",
       " 1627853,\n",
       " 2772,\n",
       " 201571,\n",
       " 1629028,\n",
       " 1628407,\n",
       " 1628963,\n",
       " 1628366,\n",
       " 1628964,\n",
       " 200826,\n",
       " 203084,\n",
       " 1629628,\n",
       " 203115,\n",
       " 1628966,\n",
       " 201587,\n",
       " 203382,\n",
       " 203145,\n",
       " 1629647,\n",
       " 203078,\n",
       " 1627736,\n",
       " 201158,\n",
       " 1628395,\n",
       " 1627761,\n",
       " 1627733,\n",
       " 202722,\n",
       " 201976,\n",
       " 203920,\n",
       " 1629048,\n",
       " 202687,\n",
       " 202357,\n",
       " 202339,\n",
       " 203992,\n",
       " 202711,\n",
       " 1629626,\n",
       " 1628413,\n",
       " 1629648,\n",
       " 1629067,\n",
       " 1626164,\n",
       " 1628449,\n",
       " 1628968,\n",
       " 1629065,\n",
       " 202340,\n",
       " 1628396,\n",
       " 1629714,\n",
       " 1629649,\n",
       " 1628969,\n",
       " 1628970,\n",
       " 1629052,\n",
       " 1629151,\n",
       " 1627763,\n",
       " 1628415,\n",
       " 1628971,\n",
       " 1627759,\n",
       " 1629650,\n",
       " 1628425,\n",
       " 1629718,\n",
       " 1628972,\n",
       " 1628973,\n",
       " 1628418,\n",
       " 203493,\n",
       " 203504,\n",
       " 202692,\n",
       " 1629126,\n",
       " 202710,\n",
       " 203998,\n",
       " 1629719,\n",
       " 203484,\n",
       " 1628427,\n",
       " 203991,\n",
       " 201960,\n",
       " 1628975,\n",
       " 1713,\n",
       " 1628976,\n",
       " 203487,\n",
       " 1627936,\n",
       " 1626161,\n",
       " 2199,\n",
       " 201163,\n",
       " 1629597,\n",
       " 1629185,\n",
       " 1627737,\n",
       " 1629109,\n",
       " 1629634,\n",
       " 203903,\n",
       " 1629651,\n",
       " 1629598,\n",
       " 1628499,\n",
       " 1629599,\n",
       " 1628381,\n",
       " 1628380,\n",
       " 201144,\n",
       " 1626192,\n",
       " 1626188,\n",
       " 1629076,\n",
       " 202326,\n",
       " 203496,\n",
       " 203459,\n",
       " 1628470,\n",
       " 203109,\n",
       " 1629633,\n",
       " 203552,\n",
       " 201939,\n",
       " 203584,\n",
       " 203076,\n",
       " 202334,\n",
       " 1629056,\n",
       " 201942,\n",
       " 203473,\n",
       " 203521,\n",
       " 1628978,\n",
       " 1627767,\n",
       " 1628977,\n",
       " 203476,\n",
       " 203915,\n",
       " 1629029,\n",
       " 1629652,\n",
       " 1628422,\n",
       " 1629635,\n",
       " 1628408,\n",
       " 201609,\n",
       " 203083,\n",
       " 201162,\n",
       " 1627739,\n",
       " 201142,\n",
       " 1629035,\n",
       " 1627740,\n",
       " 201961,\n",
       " 203954,\n",
       " 203516,\n",
       " 1629234,\n",
       " 1628980,\n",
       " 203957,\n",
       " 1629605,\n",
       " 202324,\n",
       " 1626245,\n",
       " 1628390,\n",
       " 1628981,\n",
       " 1627812,\n",
       " 1627827,\n",
       " 1627854,\n",
       " 203095,\n",
       " 1628368,\n",
       " 1626187,\n",
       " 204025,\n",
       " 1628982,\n",
       " 1628365,\n",
       " 1629117,\n",
       " 1629655,\n",
       " 201568,\n",
       " 204038,\n",
       " 1629636,\n",
       " 201188,\n",
       " 200752,\n",
       " 202331,\n",
       " 201959,\n",
       " 1628385,\n",
       " 1628983,\n",
       " 203497,\n",
       " 1629164,\n",
       " 203932,\n",
       " 201569,\n",
       " 1628984,\n",
       " 1626203,\n",
       " 203924,\n",
       " 1627982,\n",
       " 201980,\n",
       " 203110,\n",
       " 101123,\n",
       " 203210,\n",
       " 1629750,\n",
       " 201145,\n",
       " 201933,\n",
       " 1629741,\n",
       " 1629657,\n",
       " 1629060,\n",
       " 1628985,\n",
       " 203501,\n",
       " 201935,\n",
       " 203090,\n",
       " 1629607,\n",
       " 1626149,\n",
       " 203914,\n",
       " 203925,\n",
       " 202699,\n",
       " 1627885,\n",
       " 1628404,\n",
       " 1628392,\n",
       " 2617,\n",
       " 1629637,\n",
       " 202330,\n",
       " 203089,\n",
       " 1629608,\n",
       " 1627823,\n",
       " 1626195,\n",
       " 1629639,\n",
       " 1628987,\n",
       " 1626209,\n",
       " 1627741,\n",
       " 201588,\n",
       " 203524,\n",
       " 1629658,\n",
       " 1628988,\n",
       " 201950,\n",
       " 203200,\n",
       " 1626178,\n",
       " 1626158,\n",
       " 203918,\n",
       " 201143,\n",
       " 1629659,\n",
       " 1627863,\n",
       " 2730,\n",
       " 1629739,\n",
       " 1628989,\n",
       " 1629631,\n",
       " 1628990,\n",
       " 201586,\n",
       " 2738,\n",
       " 101141,\n",
       " 204060,\n",
       " 1627742,\n",
       " 202681,\n",
       " 1628371,\n",
       " 1628411,\n",
       " 1628402,\n",
       " 1628367,\n",
       " 1628382,\n",
       " 202704,\n",
       " 1628991,\n",
       " 1629713,\n",
       " 2544,\n",
       " 1628518,\n",
       " 1629610,\n",
       " 1629660,\n",
       " 1628993,\n",
       " 1629168,\n",
       " 1629661,\n",
       " 201949,\n",
       " 1629640,\n",
       " 1626169,\n",
       " 204020,\n",
       " 203999,\n",
       " 1627745,\n",
       " 1626145,\n",
       " 1627884,\n",
       " 201599,\n",
       " 202709,\n",
       " 1629662,\n",
       " 1626163,\n",
       " 202683,\n",
       " 1628379,\n",
       " 1629742,\n",
       " 203077,\n",
       " 1629663,\n",
       " 1628467,\n",
       " 202688,\n",
       " 1628995,\n",
       " 1629723,\n",
       " 1627788,\n",
       " 1628436,\n",
       " 2594,\n",
       " 1629066,\n",
       " 1628398,\n",
       " 203897,\n",
       " 1627746,\n",
       " 203087,\n",
       " 1629641,\n",
       " 1629724,\n",
       " 1627774,\n",
       " 1627747,\n",
       " 1628388,\n",
       " 1629665,\n",
       " 201584,\n",
       " 1627814,\n",
       " 203458,\n",
       " 202695,\n",
       " 203086,\n",
       " 203081,\n",
       " 1629642,\n",
       " 1626172,\n",
       " 201572,\n",
       " 201577,\n",
       " 201567,\n",
       " 200768,\n",
       " 1627789,\n",
       " 1626168,\n",
       " 1629133,\n",
       " 203705,\n",
       " 101133,\n",
       " 1627748,\n",
       " 1629611,\n",
       " 1626246,\n",
       " 1628374,\n",
       " 1628997,\n",
       " 1628998,\n",
       " 1629725,\n",
       " 1629103,\n",
       " 1628412,\n",
       " 1629726,\n",
       " 202083,\n",
       " 1627775,\n",
       " 203468,\n",
       " 204456,\n",
       " 1629667,\n",
       " 203926,\n",
       " 201580,\n",
       " 203585,\n",
       " 1628035,\n",
       " 1629162,\n",
       " 203463,\n",
       " 203895,\n",
       " 1629740,\n",
       " 1629001,\n",
       " 1629002,\n",
       " 203114,\n",
       " 101139,\n",
       " 203121,\n",
       " 1626259,\n",
       " 201988,\n",
       " 200794,\n",
       " 1629003,\n",
       " 1628378,\n",
       " 1628513,\n",
       " 1629690,\n",
       " 1628370,\n",
       " 1629760,\n",
       " 202734,\n",
       " 1629630,\n",
       " 1629752,\n",
       " 202693,\n",
       " 1628420,\n",
       " 202694,\n",
       " 1628405,\n",
       " 1626144,\n",
       " 1627749,\n",
       " 1627750,\n",
       " 1629058,\n",
       " 203488,\n",
       " 1629004,\n",
       " 1627846,\n",
       " 1626204,\n",
       " 203894,\n",
       " 2403,\n",
       " 203526,\n",
       " 1627777,\n",
       " 203457,\n",
       " 1629668,\n",
       " 1629669,\n",
       " 1628373,\n",
       " 1629134,\n",
       " 203994,\n",
       " 1628021,\n",
       " 1626220,\n",
       " 203124,\n",
       " 1628400,\n",
       " 1626143,\n",
       " 1629059,\n",
       " 1629006,\n",
       " 1629644,\n",
       " 203506,\n",
       " 203482,\n",
       " 1629671,\n",
       " 1626224,\n",
       " 1626162,\n",
       " 1629745,\n",
       " 203953,\n",
       " 202718,\n",
       " 1629672,\n",
       " 1628394,\n",
       " 202335,\n",
       " 1628383,\n",
       " 101108,\n",
       " 203901,\n",
       " 1627780,\n",
       " 203658,\n",
       " 1629033,\n",
       " 203486,\n",
       " 1627751,\n",
       " 1629738,\n",
       " 1629044,\n",
       " 1629673,\n",
       " 1629645,\n",
       " 1629008,\n",
       " 203490,\n",
       " 1626171,\n",
       " 204001,\n",
       " 203939,\n",
       " 1626181,\n",
       " 1627752,\n",
       " 203944,\n",
       " 1629729,\n",
       " 1629629,\n",
       " 200755,\n",
       " 1629675,\n",
       " 1629244,\n",
       " 1626196,\n",
       " 203085,\n",
       " 203460,\n",
       " 1629130,\n",
       " 1629010,\n",
       " 1629620,\n",
       " 1629011,\n",
       " 203922,\n",
       " 1629676,\n",
       " 200765,\n",
       " 201565,\n",
       " 203082,\n",
       " 1626179,\n",
       " 201937,\n",
       " 1626156,\n",
       " 1627734,\n",
       " 1629677,\n",
       " 203960,\n",
       " 203967,\n",
       " 203107,\n",
       " 1629678,\n",
       " 203471,\n",
       " 203118,\n",
       " 200757,\n",
       " 1629012,\n",
       " 1629013,\n",
       " 1629621,\n",
       " 202697,\n",
       " 1627783,\n",
       " 1629735,\n",
       " 1627732,\n",
       " 1628424,\n",
       " 1629014,\n",
       " 1629346,\n",
       " 203935,\n",
       " 202397,\n",
       " 1629015,\n",
       " 1628372,\n",
       " 203503,\n",
       " 1629034,\n",
       " 1629016,\n",
       " 1629622,\n",
       " 1628410,\n",
       " 1628403,\n",
       " 1628369,\n",
       " 201952,\n",
       " 202066,\n",
       " 1628464,\n",
       " 202738,\n",
       " 1629017,\n",
       " 1629744,\n",
       " 202691,\n",
       " 202684,\n",
       " 1629680,\n",
       " 201229,\n",
       " 1626157,\n",
       " 1629018,\n",
       " 1629019,\n",
       " 200782,\n",
       " 1629730,\n",
       " 202323,\n",
       " 1626167,\n",
       " 202685,\n",
       " 1627756,\n",
       " 1627832,\n",
       " 1629020,\n",
       " 1629216,\n",
       " 203943,\n",
       " 202696,\n",
       " 1629731,\n",
       " 1629021,\n",
       " 203079,\n",
       " 202689,\n",
       " 1629022,\n",
       " 202322,\n",
       " 1627820,\n",
       " 1628476,\n",
       " 202954,\n",
       " 203933,\n",
       " 1629023,\n",
       " 1629139,\n",
       " 1629682,\n",
       " 1628778,\n",
       " 1629683,\n",
       " 201566,\n",
       " 1629632,\n",
       " 1628401,\n",
       " 202355,\n",
       " 203952,\n",
       " 1629684,\n",
       " 1629140,\n",
       " 1629026,\n",
       " 101150,\n",
       " 101107,\n",
       " 1629057,\n",
       " 1628430,\n",
       " 1629627,\n",
       " 1628391,\n",
       " 1629685,\n",
       " 1626159,\n",
       " 1626174,\n",
       " 1629624,\n",
       " 1626153,\n",
       " 1629625,\n",
       " 201152,\n",
       " 1629027,\n",
       " 203469,\n",
       " 1627790,\n",
       " 1627826]"
      ]
     },
     "execution_count": 4,
     "metadata": {},
     "output_type": "execute_result"
    }
   ],
   "source": [
    "nba_ids # 519 total"
   ]
  },
  {
   "cell_type": "code",
   "execution_count": 5,
   "metadata": {},
   "outputs": [],
   "source": [
    "def make_df(array):\n",
    "    frames = [] \n",
    "    for i in range(0,len(array)):\n",
    "        career = playercareerstats.PlayerCareerStats(player_id = array[i])   \n",
    "        df = career.get_data_frames()[0]\n",
    "        frames.append(df)\n",
    "        time.sleep(.66)\n",
    "    f_df = df = pd.concat(frames,ignore_index=True, sort=False)\n",
    "    return f_df"
   ]
  },
  {
   "cell_type": "code",
   "execution_count": 6,
   "metadata": {},
   "outputs": [],
   "source": [
    "final = make_df(nba_ids)"
   ]
  },
  {
   "cell_type": "code",
   "execution_count": 7,
   "metadata": {},
   "outputs": [
    {
     "data": {
      "text/html": [
       "<div>\n",
       "<style scoped>\n",
       "    .dataframe tbody tr th:only-of-type {\n",
       "        vertical-align: middle;\n",
       "    }\n",
       "\n",
       "    .dataframe tbody tr th {\n",
       "        vertical-align: top;\n",
       "    }\n",
       "\n",
       "    .dataframe thead th {\n",
       "        text-align: right;\n",
       "    }\n",
       "</style>\n",
       "<table border=\"1\" class=\"dataframe\">\n",
       "  <thead>\n",
       "    <tr style=\"text-align: right;\">\n",
       "      <th></th>\n",
       "      <th>PLAYER_ID</th>\n",
       "      <th>SEASON_ID</th>\n",
       "      <th>LEAGUE_ID</th>\n",
       "      <th>TEAM_ID</th>\n",
       "      <th>TEAM_ABBREVIATION</th>\n",
       "      <th>PLAYER_AGE</th>\n",
       "      <th>GP</th>\n",
       "      <th>GS</th>\n",
       "      <th>MIN</th>\n",
       "      <th>FGM</th>\n",
       "      <th>...</th>\n",
       "      <th>FT_PCT</th>\n",
       "      <th>OREB</th>\n",
       "      <th>DREB</th>\n",
       "      <th>REB</th>\n",
       "      <th>AST</th>\n",
       "      <th>STL</th>\n",
       "      <th>BLK</th>\n",
       "      <th>TOV</th>\n",
       "      <th>PF</th>\n",
       "      <th>PTS</th>\n",
       "    </tr>\n",
       "  </thead>\n",
       "  <tbody>\n",
       "    <tr>\n",
       "      <th>0</th>\n",
       "      <td>203500</td>\n",
       "      <td>2013-14</td>\n",
       "      <td>00</td>\n",
       "      <td>1610612760</td>\n",
       "      <td>OKC</td>\n",
       "      <td>20.0</td>\n",
       "      <td>81</td>\n",
       "      <td>20</td>\n",
       "      <td>1197.0</td>\n",
       "      <td>93</td>\n",
       "      <td>...</td>\n",
       "      <td>0.581</td>\n",
       "      <td>142</td>\n",
       "      <td>190</td>\n",
       "      <td>332</td>\n",
       "      <td>43</td>\n",
       "      <td>40</td>\n",
       "      <td>57</td>\n",
       "      <td>71</td>\n",
       "      <td>203</td>\n",
       "      <td>265</td>\n",
       "    </tr>\n",
       "    <tr>\n",
       "      <th>1</th>\n",
       "      <td>203500</td>\n",
       "      <td>2014-15</td>\n",
       "      <td>00</td>\n",
       "      <td>1610612760</td>\n",
       "      <td>OKC</td>\n",
       "      <td>21.0</td>\n",
       "      <td>70</td>\n",
       "      <td>67</td>\n",
       "      <td>1771.0</td>\n",
       "      <td>217</td>\n",
       "      <td>...</td>\n",
       "      <td>0.502</td>\n",
       "      <td>199</td>\n",
       "      <td>324</td>\n",
       "      <td>523</td>\n",
       "      <td>66</td>\n",
       "      <td>38</td>\n",
       "      <td>86</td>\n",
       "      <td>99</td>\n",
       "      <td>222</td>\n",
       "      <td>537</td>\n",
       "    </tr>\n",
       "    <tr>\n",
       "      <th>2</th>\n",
       "      <td>203500</td>\n",
       "      <td>2015-16</td>\n",
       "      <td>00</td>\n",
       "      <td>1610612760</td>\n",
       "      <td>OKC</td>\n",
       "      <td>22.0</td>\n",
       "      <td>80</td>\n",
       "      <td>80</td>\n",
       "      <td>2014.0</td>\n",
       "      <td>261</td>\n",
       "      <td>...</td>\n",
       "      <td>0.582</td>\n",
       "      <td>219</td>\n",
       "      <td>314</td>\n",
       "      <td>533</td>\n",
       "      <td>62</td>\n",
       "      <td>42</td>\n",
       "      <td>89</td>\n",
       "      <td>84</td>\n",
       "      <td>223</td>\n",
       "      <td>636</td>\n",
       "    </tr>\n",
       "    <tr>\n",
       "      <th>3</th>\n",
       "      <td>203500</td>\n",
       "      <td>2016-17</td>\n",
       "      <td>00</td>\n",
       "      <td>1610612760</td>\n",
       "      <td>OKC</td>\n",
       "      <td>23.0</td>\n",
       "      <td>80</td>\n",
       "      <td>80</td>\n",
       "      <td>2389.0</td>\n",
       "      <td>374</td>\n",
       "      <td>...</td>\n",
       "      <td>0.611</td>\n",
       "      <td>281</td>\n",
       "      <td>332</td>\n",
       "      <td>613</td>\n",
       "      <td>86</td>\n",
       "      <td>89</td>\n",
       "      <td>78</td>\n",
       "      <td>146</td>\n",
       "      <td>195</td>\n",
       "      <td>905</td>\n",
       "    </tr>\n",
       "    <tr>\n",
       "      <th>4</th>\n",
       "      <td>203500</td>\n",
       "      <td>2017-18</td>\n",
       "      <td>00</td>\n",
       "      <td>1610612760</td>\n",
       "      <td>OKC</td>\n",
       "      <td>24.0</td>\n",
       "      <td>76</td>\n",
       "      <td>76</td>\n",
       "      <td>2487.0</td>\n",
       "      <td>448</td>\n",
       "      <td>...</td>\n",
       "      <td>0.559</td>\n",
       "      <td>384</td>\n",
       "      <td>301</td>\n",
       "      <td>685</td>\n",
       "      <td>88</td>\n",
       "      <td>92</td>\n",
       "      <td>78</td>\n",
       "      <td>128</td>\n",
       "      <td>215</td>\n",
       "      <td>1056</td>\n",
       "    </tr>\n",
       "    <tr>\n",
       "      <th>...</th>\n",
       "      <td>...</td>\n",
       "      <td>...</td>\n",
       "      <td>...</td>\n",
       "      <td>...</td>\n",
       "      <td>...</td>\n",
       "      <td>...</td>\n",
       "      <td>...</td>\n",
       "      <td>...</td>\n",
       "      <td>...</td>\n",
       "      <td>...</td>\n",
       "      <td>...</td>\n",
       "      <td>...</td>\n",
       "      <td>...</td>\n",
       "      <td>...</td>\n",
       "      <td>...</td>\n",
       "      <td>...</td>\n",
       "      <td>...</td>\n",
       "      <td>...</td>\n",
       "      <td>...</td>\n",
       "      <td>...</td>\n",
       "      <td>...</td>\n",
       "    </tr>\n",
       "    <tr>\n",
       "      <th>3637</th>\n",
       "      <td>1627826</td>\n",
       "      <td>2018-19</td>\n",
       "      <td>00</td>\n",
       "      <td>1610612747</td>\n",
       "      <td>LAL</td>\n",
       "      <td>22.0</td>\n",
       "      <td>33</td>\n",
       "      <td>12</td>\n",
       "      <td>516.0</td>\n",
       "      <td>112</td>\n",
       "      <td>...</td>\n",
       "      <td>0.864</td>\n",
       "      <td>54</td>\n",
       "      <td>108</td>\n",
       "      <td>162</td>\n",
       "      <td>25</td>\n",
       "      <td>4</td>\n",
       "      <td>27</td>\n",
       "      <td>33</td>\n",
       "      <td>73</td>\n",
       "      <td>281</td>\n",
       "    </tr>\n",
       "    <tr>\n",
       "      <th>3638</th>\n",
       "      <td>1627826</td>\n",
       "      <td>2018-19</td>\n",
       "      <td>00</td>\n",
       "      <td>1610612746</td>\n",
       "      <td>LAC</td>\n",
       "      <td>22.0</td>\n",
       "      <td>26</td>\n",
       "      <td>25</td>\n",
       "      <td>524.0</td>\n",
       "      <td>100</td>\n",
       "      <td>...</td>\n",
       "      <td>0.733</td>\n",
       "      <td>61</td>\n",
       "      <td>139</td>\n",
       "      <td>200</td>\n",
       "      <td>38</td>\n",
       "      <td>10</td>\n",
       "      <td>24</td>\n",
       "      <td>37</td>\n",
       "      <td>64</td>\n",
       "      <td>244</td>\n",
       "    </tr>\n",
       "    <tr>\n",
       "      <th>3639</th>\n",
       "      <td>1627826</td>\n",
       "      <td>2018-19</td>\n",
       "      <td>00</td>\n",
       "      <td>0</td>\n",
       "      <td>TOT</td>\n",
       "      <td>22.0</td>\n",
       "      <td>59</td>\n",
       "      <td>37</td>\n",
       "      <td>1039.0</td>\n",
       "      <td>212</td>\n",
       "      <td>...</td>\n",
       "      <td>0.802</td>\n",
       "      <td>115</td>\n",
       "      <td>247</td>\n",
       "      <td>362</td>\n",
       "      <td>63</td>\n",
       "      <td>14</td>\n",
       "      <td>51</td>\n",
       "      <td>70</td>\n",
       "      <td>137</td>\n",
       "      <td>525</td>\n",
       "    </tr>\n",
       "    <tr>\n",
       "      <th>3640</th>\n",
       "      <td>1627826</td>\n",
       "      <td>2019-20</td>\n",
       "      <td>00</td>\n",
       "      <td>1610612746</td>\n",
       "      <td>LAC</td>\n",
       "      <td>23.0</td>\n",
       "      <td>72</td>\n",
       "      <td>70</td>\n",
       "      <td>1326.0</td>\n",
       "      <td>236</td>\n",
       "      <td>...</td>\n",
       "      <td>0.747</td>\n",
       "      <td>197</td>\n",
       "      <td>346</td>\n",
       "      <td>543</td>\n",
       "      <td>82</td>\n",
       "      <td>16</td>\n",
       "      <td>66</td>\n",
       "      <td>61</td>\n",
       "      <td>168</td>\n",
       "      <td>596</td>\n",
       "    </tr>\n",
       "    <tr>\n",
       "      <th>3641</th>\n",
       "      <td>1627826</td>\n",
       "      <td>2020-21</td>\n",
       "      <td>00</td>\n",
       "      <td>1610612746</td>\n",
       "      <td>LAC</td>\n",
       "      <td>24.0</td>\n",
       "      <td>72</td>\n",
       "      <td>33</td>\n",
       "      <td>1609.0</td>\n",
       "      <td>257</td>\n",
       "      <td>...</td>\n",
       "      <td>0.789</td>\n",
       "      <td>189</td>\n",
       "      <td>330</td>\n",
       "      <td>519</td>\n",
       "      <td>90</td>\n",
       "      <td>24</td>\n",
       "      <td>62</td>\n",
       "      <td>81</td>\n",
       "      <td>187</td>\n",
       "      <td>650</td>\n",
       "    </tr>\n",
       "  </tbody>\n",
       "</table>\n",
       "<p>3642 rows × 27 columns</p>\n",
       "</div>"
      ],
      "text/plain": [
       "     PLAYER_ID SEASON_ID LEAGUE_ID     TEAM_ID TEAM_ABBREVIATION  PLAYER_AGE  \\\n",
       "0       203500   2013-14        00  1610612760               OKC        20.0   \n",
       "1       203500   2014-15        00  1610612760               OKC        21.0   \n",
       "2       203500   2015-16        00  1610612760               OKC        22.0   \n",
       "3       203500   2016-17        00  1610612760               OKC        23.0   \n",
       "4       203500   2017-18        00  1610612760               OKC        24.0   \n",
       "...        ...       ...       ...         ...               ...         ...   \n",
       "3637   1627826   2018-19        00  1610612747               LAL        22.0   \n",
       "3638   1627826   2018-19        00  1610612746               LAC        22.0   \n",
       "3639   1627826   2018-19        00           0               TOT        22.0   \n",
       "3640   1627826   2019-20        00  1610612746               LAC        23.0   \n",
       "3641   1627826   2020-21        00  1610612746               LAC        24.0   \n",
       "\n",
       "      GP  GS     MIN  FGM  ... FT_PCT  OREB DREB  REB  AST STL BLK  TOV   PF  \\\n",
       "0     81  20  1197.0   93  ...  0.581   142  190  332   43  40  57   71  203   \n",
       "1     70  67  1771.0  217  ...  0.502   199  324  523   66  38  86   99  222   \n",
       "2     80  80  2014.0  261  ...  0.582   219  314  533   62  42  89   84  223   \n",
       "3     80  80  2389.0  374  ...  0.611   281  332  613   86  89  78  146  195   \n",
       "4     76  76  2487.0  448  ...  0.559   384  301  685   88  92  78  128  215   \n",
       "...   ..  ..     ...  ...  ...    ...   ...  ...  ...  ...  ..  ..  ...  ...   \n",
       "3637  33  12   516.0  112  ...  0.864    54  108  162   25   4  27   33   73   \n",
       "3638  26  25   524.0  100  ...  0.733    61  139  200   38  10  24   37   64   \n",
       "3639  59  37  1039.0  212  ...  0.802   115  247  362   63  14  51   70  137   \n",
       "3640  72  70  1326.0  236  ...  0.747   197  346  543   82  16  66   61  168   \n",
       "3641  72  33  1609.0  257  ...  0.789   189  330  519   90  24  62   81  187   \n",
       "\n",
       "       PTS  \n",
       "0      265  \n",
       "1      537  \n",
       "2      636  \n",
       "3      905  \n",
       "4     1056  \n",
       "...    ...  \n",
       "3637   281  \n",
       "3638   244  \n",
       "3639   525  \n",
       "3640   596  \n",
       "3641   650  \n",
       "\n",
       "[3642 rows x 27 columns]"
      ]
     },
     "execution_count": 7,
     "metadata": {},
     "output_type": "execute_result"
    }
   ],
   "source": [
    "final"
   ]
  },
  {
   "cell_type": "code",
   "execution_count": 8,
   "metadata": {},
   "outputs": [],
   "source": [
    "def sameteam_df(df,team_abv,season):\n",
    "    team_arr = []\n",
    "    all_team = []\n",
    "    for i in range(0,len(df)): \n",
    "        if team_abv == df['TEAM_ABBREVIATION'][i] and season==df['SEASON_ID'][i]:\n",
    "            team_arr.append(df['PLAYER_ID'][i])\n",
    "    for k in range (0,len(df)):\n",
    "        for j in range(0,len(team_arr)):\n",
    "            if(team_arr[j]== df['PLAYER_ID'][k]):\n",
    "                all_team.append(df[k:k+1])\n",
    "    #team_df = make_df(team_arr)\n",
    "    team_df = pd.concat(all_team,ignore_index=True, sort=False)\n",
    "    return team_df"
   ]
  },
  {
   "cell_type": "code",
   "execution_count": 9,
   "metadata": {},
   "outputs": [],
   "source": [
    "#Team1=sameteam_df(final,'LAL','2020-21')"
   ]
  },
  {
   "cell_type": "code",
   "execution_count": 10,
   "metadata": {},
   "outputs": [],
   "source": [
    "#features = ['FGA', 'FTA','PTS']\n",
    "#Team1\n",
    "#x = Team1.loc[:, features].values\n",
    "#x=x.astype('int')"
   ]
  },
  {
   "cell_type": "code",
   "execution_count": 11,
   "metadata": {},
   "outputs": [],
   "source": [
    "#len(Team1)"
   ]
  },
  {
   "cell_type": "code",
   "execution_count": 12,
   "metadata": {},
   "outputs": [],
   "source": [
    "def get_TS(df):\n",
    "    result = []\n",
    "    fgs = ['FGA', 'FTA','PTS']\n",
    "    x= df.loc[:, fgs].values\n",
    "    x=x.astype('int')\n",
    "    for i in range (0,len(df)):\n",
    "        TS = (x[i][2]/(2*(x[i][0]+.44*x[i][1])))*100   \n",
    "        result.append(TS)\n",
    "    return result"
   ]
  },
  {
   "cell_type": "code",
   "execution_count": 13,
   "metadata": {},
   "outputs": [],
   "source": [
    "#len(get_TS(Team1))"
   ]
  },
  {
   "cell_type": "code",
   "execution_count": 34,
   "metadata": {},
   "outputs": [],
   "source": [
    "features = ['MIN','FG_PCT','TOV','FG3_PCT','PTS','REB','AST','STL','BLK']\n",
    "#x = Team1.loc[:, features].values\n",
    "#targets = ['PLAYER_ID']\n",
    "#y = Team1.loc[:,targets].values\n",
    "#y = y.ravel()\n",
    "#x = StandardScaler().fit_transform(x)\n",
    "#y=y.astype('int')"
   ]
  },
  {
   "cell_type": "code",
   "execution_count": 35,
   "metadata": {},
   "outputs": [],
   "source": [
    "def get_Attribute(df,attr): # to mark each season(with border)\n",
    "    targets = [attr]\n",
    "    y = df.loc[:,targets].values\n",
    "    y= y.ravel()\n",
    "    return y"
   ]
  },
  {
   "cell_type": "code",
   "execution_count": 36,
   "metadata": {},
   "outputs": [],
   "source": [
    "def get_startYear(arr):\n",
    "    yr_arr = []\n",
    "    curr_year= ''\n",
    "    for i in range (0,len(arr)):\n",
    "        curr_year = arr[i][0]+arr[i][1]+arr[i][2]+arr[i][3]\n",
    "        curr_year = int(curr_year)\n",
    "        yr_arr.append(curr_year)\n",
    "        curr_year = ''\n",
    "    return yr_arr"
   ]
  },
  {
   "cell_type": "code",
   "execution_count": 37,
   "metadata": {},
   "outputs": [],
   "source": [
    "from sklearn.manifold import TSNE\n",
    "from sklearn.decomposition import PCA\n",
    "import random "
   ]
  },
  {
   "cell_type": "code",
   "execution_count": 38,
   "metadata": {},
   "outputs": [],
   "source": [
    "def get_lda(Team,season,f,option1,option2):\n",
    "    \n",
    "    Team_stats=sameteam_df(final,Team,season)\n",
    "    #set x, y\n",
    "    x = Team_stats.loc[:, features].values\n",
    "    targets = ['PLAYER_ID']\n",
    "    y = Team_stats.loc[:,targets].values\n",
    "    y = y.ravel()\n",
    "    x = StandardScaler().fit_transform(x)\n",
    "    y=y.astype('int')\n",
    "    \n",
    "    #get_lda components\n",
    "    if (f == 'LDA'):\n",
    "        lda = LDA(n_components = 2)\n",
    "        x_lda= lda.fit(x,y).transform(x)\n",
    "        #set to null since we will not use \n",
    "        option1= None\n",
    "        option2=None\n",
    "    elif(f=='TSNE'):\n",
    "        tsne = TSNE(n_components=2)\n",
    "        x_lda=tsne.fit_transform(x)\n",
    "        #set to null since we will not use \n",
    "        option1= None\n",
    "        option2=None\n",
    "    elif(f=='PCA'):\n",
    "        pca = PCA(n_components = 3)\n",
    "        principalComponents = pca.fit_transform(x)\n",
    "        x_lda = principalComponents[:, [option1, option2]]\n",
    "    else:\n",
    "        print('error')\n",
    "        return\n",
    "    #concat ids, begining years\n",
    "    q = get_Attribute(Team_stats,'PLAYER_ID')\n",
    "    \n",
    "    v = get_Attribute(Team_stats,'PLAYER_AGE')\n",
    "    \n",
    "    w = get_Attribute(Team_stats,'SEASON_ID')\n",
    "    all_yrs = get_startYear(w)\n",
    "    all_yrs =np.array(all_yrs)\n",
    "    \n",
    "    TS_arr = get_TS(Team_stats)\n",
    "    TS_arr =np.array(TS_arr)\n",
    "\n",
    "    x_lda=np.concatenate((TS_arr[:, np.newaxis], x_lda), axis=1)\n",
    "    x_lda=np.concatenate((v[:, np.newaxis], x_lda), axis=1)\n",
    "    x_lda=np.concatenate((q[:, np.newaxis], x_lda), axis=1)\n",
    "    x_lda=np.concatenate((all_yrs[:, np.newaxis], x_lda), axis=1)\n",
    "    \n",
    "    #print('option1:',option1,'option2',option2)\n",
    "    return x_lda\n",
    "    "
   ]
  },
  {
   "cell_type": "code",
   "execution_count": 39,
   "metadata": {},
   "outputs": [],
   "source": [
    "#option1=1\n",
    "#option2=2\n",
    "x_lda = get_lda('OKC','2020-21','TSNE',0,1)"
   ]
  },
  {
   "cell_type": "code",
   "execution_count": 40,
   "metadata": {},
   "outputs": [
    {
     "data": {
      "text/plain": [
       "array([20, 20, 20, 21, 22, 23, 23, 23, 20, 21, 23, 24, 20, 21, 22, 22, 22,\n",
       "       21, 22, 20, 21, 22, 23, 24, 25, 26, 27, 28, 29, 30, 31, 32, 32, 32,\n",
       "       33, 33, 33, 34, 35, 35, 35, 21, 22, 22, 23, 24, 25, 26, 27, 28, 29,\n",
       "       30, 31, 32, 33, 34, 34, 23, 24, 24, 24, 25, 26, 26, 26, 22, 23, 23,\n",
       "       24, 25, 28, 29, 31, 22, 23, 24, 25, 26, 27, 27, 27, 28, 29, 22, 22,\n",
       "       22, 23, 23, 23, 23, 22, 23, 22, 23, 24, 25, 26])"
      ]
     },
     "execution_count": 40,
     "metadata": {},
     "output_type": "execute_result"
    }
   ],
   "source": [
    "x_lda[:,2].astype('int')\n",
    "#g=g.astype('int')"
   ]
  },
  {
   "cell_type": "code",
   "execution_count": 41,
   "metadata": {},
   "outputs": [],
   "source": [
    "def all_player_names(player_dict,arr):\n",
    "    names = []\n",
    "    result= []\n",
    "    i = 0\n",
    "    for player in player_dict:  \n",
    "        if player['is_active'] == True:\n",
    "            names.append(player)\n",
    "            i = i+1\n",
    "    for j in range (0,len(arr)):\n",
    "        for k in range(0,len(names)):\n",
    "            if names[k]['id']==arr[j]:\n",
    "                #print(names[k]['full_name'])\n",
    "                result.append(names[k]['full_name'])\n",
    "                break;\n",
    "    return result"
   ]
  },
  {
   "cell_type": "code",
   "execution_count": 42,
   "metadata": {},
   "outputs": [],
   "source": [
    "#names = all_player_names(player_dict,q)\n",
    "#names =np.array(names)"
   ]
  },
  {
   "cell_type": "code",
   "execution_count": 43,
   "metadata": {},
   "outputs": [],
   "source": [
    "names=all_player_names(player_dict,x_lda[:,1])"
   ]
  },
  {
   "cell_type": "code",
   "execution_count": 44,
   "metadata": {},
   "outputs": [],
   "source": [
    "#LDA_df = pd.DataFrame(f_arr)\n",
    "#LDA_df.rename(index=str, columns={0:'year',1:'lda_1',2:'lda_2'})"
   ]
  },
  {
   "cell_type": "code",
   "execution_count": 45,
   "metadata": {},
   "outputs": [
    {
     "data": {
      "application/vnd.plotly.v1+json": {
       "config": {
        "plotlyServerURL": "https://plot.ly"
       },
       "data": [
        {
         "hovertemplate": "Full Name=Darius Bazley<br>LDA Component 1=%{x}<br>LDA Component 2=%{y}<br>Age=%{marker.size}<extra></extra>",
         "legendgroup": "Darius Bazley",
         "marker": {
          "color": "red",
          "size": [
           20,
           20
          ],
          "sizemode": "area",
          "sizeref": 0.0875,
          "symbol": "circle"
         },
         "mode": "markers",
         "name": "Darius Bazley",
         "orientation": "v",
         "showlegend": true,
         "type": "scatter",
         "x": [
          -3.4218268394470215,
          -0.7331313490867615
         ],
         "xaxis": "x",
         "y": [
          -0.17938198149204254,
          -4.324922561645508
         ],
         "yaxis": "y"
        },
        {
         "hovertemplate": "Full Name=Tony Bradley<br>LDA Component 1=%{x}<br>LDA Component 2=%{y}<br>Age=%{marker.size}<extra></extra>",
         "legendgroup": "Tony Bradley",
         "marker": {
          "color": "green",
          "size": [
           20,
           21,
           22,
           23,
           23,
           23
          ],
          "sizemode": "area",
          "sizeref": 0.0875,
          "symbol": "circle"
         },
         "mode": "markers",
         "name": "Tony Bradley",
         "orientation": "v",
         "showlegend": true,
         "type": "scatter",
         "x": [
          -0.3027583360671997,
          1.0961025953292847,
          -5.698574066162109,
          1.8338935375213623,
          1.789748191833496,
          1.7969489097595215
         ],
         "xaxis": "x",
         "y": [
          6.557068824768066,
          5.052975654602051,
          2.5290141105651855,
          3.7574262619018555,
          3.6643149852752686,
          3.320685386657715
         ],
         "yaxis": "y"
        },
        {
         "hovertemplate": "Full Name=Moses Brown<br>LDA Component 1=%{x}<br>LDA Component 2=%{y}<br>Age=%{marker.size}<extra></extra>",
         "legendgroup": "Moses Brown",
         "marker": {
          "color": "blue",
          "size": [
           20,
           21
          ],
          "sizemode": "area",
          "sizeref": 0.0875,
          "symbol": "circle"
         },
         "mode": "markers",
         "name": "Moses Brown",
         "orientation": "v",
         "showlegend": true,
         "type": "scatter",
         "x": [
          0.4878064692020416,
          -5.045050144195557
         ],
         "xaxis": "x",
         "y": [
          5.65861701965332,
          -0.019470319151878357
         ],
         "yaxis": "y"
        },
        {
         "hovertemplate": "Full Name=Charles Brown Jr.<br>LDA Component 1=%{x}<br>LDA Component 2=%{y}<br>Age=%{marker.size}<extra></extra>",
         "legendgroup": "Charles Brown Jr.",
         "marker": {
          "color": "goldenrod",
          "size": [
           23,
           24
          ],
          "sizemode": "area",
          "sizeref": 0.0875,
          "symbol": "circle"
         },
         "mode": "markers",
         "name": "Charles Brown Jr.",
         "orientation": "v",
         "showlegend": true,
         "type": "scatter",
         "x": [
          -2.037195920944214,
          -1.3998404741287231
         ],
         "xaxis": "x",
         "y": [
          6.223196983337402,
          6.169601917266846
         ],
         "yaxis": "y"
        },
        {
         "hovertemplate": "Full Name=Hamidou Diallo<br>LDA Component 1=%{x}<br>LDA Component 2=%{y}<br>Age=%{marker.size}<extra></extra>",
         "legendgroup": "Hamidou Diallo",
         "marker": {
          "color": "pink",
          "size": [
           20,
           21,
           22,
           22,
           22
          ],
          "sizemode": "area",
          "sizeref": 0.0875,
          "symbol": "circle"
         },
         "mode": "markers",
         "name": "Hamidou Diallo",
         "orientation": "v",
         "showlegend": true,
         "type": "scatter",
         "x": [
          -0.6448811888694763,
          -1.6395747661590576,
          -2.030912160873413,
          -3.530376434326172,
          -2.0011260509490967
         ],
         "xaxis": "x",
         "y": [
          3.6731812953948975,
          0.5980364084243774,
          0.48979583382606506,
          3.4759812355041504,
          -3.2891228199005127
         ],
         "yaxis": "y"
        },
        {
         "hovertemplate": "Full Name=Luguentz Dort<br>LDA Component 1=%{x}<br>LDA Component 2=%{y}<br>Age=%{marker.size}<extra></extra>",
         "legendgroup": "Luguentz Dort",
         "marker": {
          "color": "black",
          "size": [
           21,
           22
          ],
          "sizemode": "area",
          "sizeref": 0.0875,
          "symbol": "circle"
         },
         "mode": "markers",
         "name": "Luguentz Dort",
         "orientation": "v",
         "showlegend": true,
         "type": "scatter",
         "x": [
          -1.42636239528656,
          -1.1693686246871948
         ],
         "xaxis": "x",
         "y": [
          2.746858596801758,
          -3.3112246990203857
         ],
         "yaxis": "y"
        },
        {
         "hovertemplate": "Full Name=Shai Gilgeous-Alexander<br>LDA Component 1=%{x}<br>LDA Component 2=%{y}<br>Age=%{marker.size}<extra></extra>",
         "legendgroup": "Shai Gilgeous-Alexander",
         "marker": {
          "color": "orchid",
          "size": [
           20,
           21,
           22
          ],
          "sizemode": "area",
          "sizeref": 0.0875,
          "symbol": "circle"
         },
         "mode": "markers",
         "name": "Shai Gilgeous-Alexander",
         "orientation": "v",
         "showlegend": true,
         "type": "scatter",
         "x": [
          -2.8245744705200195,
          -2.4745144844055176,
          -3.321580171585083
         ],
         "xaxis": "x",
         "y": [
          -6.762482643127441,
          -7.26710844039917,
          -4.245192050933838
         ],
         "yaxis": "y"
        },
        {
         "hovertemplate": "Full Name=George Hill<br>LDA Component 1=%{x}<br>LDA Component 2=%{y}<br>Age=%{marker.size}<extra></extra>",
         "legendgroup": "George Hill",
         "marker": {
          "color": "gray",
          "size": [
           23,
           24,
           25,
           26,
           27,
           28,
           29,
           30,
           31,
           32,
           32,
           32,
           33,
           33,
           33,
           34,
           35,
           35,
           35
          ],
          "sizemode": "area",
          "sizeref": 0.0875,
          "symbol": "circle"
         },
         "mode": "markers",
         "name": "George Hill",
         "orientation": "v",
         "showlegend": true,
         "type": "scatter",
         "x": [
          -1.333054780960083,
          -2.498812675476074,
          -2.388824939727783,
          -1.8841383457183838,
          -2.8680806159973145,
          -2.48297119140625,
          -2.772390842437744,
          -2.7916369438171387,
          -2.68900728225708,
          -2.1864101886749268,
          -2.6881535053253174,
          -2.2240185737609863,
          -4.458714485168457,
          -1.2872117757797241,
          -1.3289897441864014,
          -2.9085652828216553,
          -4.118495464324951,
          -3.2074596881866455,
          -3.2335617542266846
         ],
         "xaxis": "x",
         "y": [
          -2.6875076293945312,
          -5.845530986785889,
          -5.465804100036621,
          -2.2155699729919434,
          -6.66537618637085,
          -6.072862148284912,
          -3.925161123275757,
          -6.17628812789917,
          -4.49275541305542,
          -2.040184736251831,
          2.59142804145813,
          -4.8344340324401855,
          4.10154914855957,
          0.38575538992881775,
          -2.137085199356079,
          -3.3284685611724854,
          4.048034191131592,
          4.4612884521484375,
          2.4005866050720215
         ],
         "yaxis": "y"
        },
        {
         "hovertemplate": "Full Name=Jaylen Hoard<br>LDA Component 1=%{x}<br>LDA Component 2=%{y}<br>Age=%{marker.size}<extra></extra>",
         "legendgroup": "Jaylen Hoard",
         "marker": {
          "color": "yellow",
          "size": [
           21,
           22
          ],
          "sizemode": "area",
          "sizeref": 0.0875,
          "symbol": "circle"
         },
         "mode": "markers",
         "name": "Jaylen Hoard",
         "orientation": "v",
         "showlegend": true,
         "type": "scatter",
         "x": [
          0.9106398820877075,
          1.0317569971084595
         ],
         "xaxis": "x",
         "y": [
          5.169701099395752,
          4.677160263061523
         ],
         "yaxis": "y"
        },
        {
         "hovertemplate": "Full Name=Al Horford<br>LDA Component 1=%{x}<br>LDA Component 2=%{y}<br>Age=%{marker.size}<extra></extra>",
         "legendgroup": "Al Horford",
         "marker": {
          "color": "cyan",
          "size": [
           22,
           23,
           24,
           25,
           26,
           27,
           28,
           29,
           30,
           31,
           32,
           33,
           34,
           34
          ],
          "sizemode": "area",
          "sizeref": 0.0875,
          "symbol": "circle"
         },
         "mode": "markers",
         "name": "Al Horford",
         "orientation": "v",
         "showlegend": true,
         "type": "scatter",
         "x": [
          -0.25976496934890747,
          -0.3560754358768463,
          -2.318683385848999,
          -1.846258521080017,
          1.386226773262024,
          -2.008659839630127,
          -4.0320234298706055,
          -1.2223467826843262,
          -1.250506043434143,
          -1.5287554264068604,
          -1.7277412414550781,
          -1.3983378410339355,
          -1.4806268215179443,
          -2.76267147064209
         ],
         "xaxis": "x",
         "y": [
          -7.944275856018066,
          -7.924375057220459,
          -9.007261276245117,
          -8.428189277648926,
          4.343605041503906,
          -8.531477928161621,
          -1.6021716594696045,
          -8.089722633361816,
          -8.427000999450684,
          -7.5939860343933105,
          -7.75468635559082,
          -7.6108880043029785,
          -6.9900641441345215,
          0.5026789307594299
         ],
         "yaxis": "y"
        },
        {
         "hovertemplate": "Full Name=Justin Jackson<br>LDA Component 1=%{x}<br>LDA Component 2=%{y}<br>Age=%{marker.size}<extra></extra>",
         "legendgroup": "Justin Jackson",
         "marker": {
          "color": "purple",
          "size": [
           23,
           24,
           24,
           24,
           25,
           26,
           26,
           26
          ],
          "sizemode": "area",
          "sizeref": 0.0875,
          "symbol": "circle"
         },
         "mode": "markers",
         "name": "Justin Jackson",
         "orientation": "v",
         "showlegend": true,
         "type": "scatter",
         "x": [
          -2.0947277545928955,
          -2.174887180328369,
          -3.7312607765197754,
          -2.1950876712799072,
          -1.6771643161773682,
          -1.9152984619140625,
          -2.139862298965454,
          -1.8990451097488403
         ],
         "xaxis": "x",
         "y": [
          -0.7320777773857117,
          1.3761308193206787,
          3.9868924617767334,
          -1.2754095792770386,
          2.0329787731170654,
          3.6083755493164062,
          6.159694194793701,
          3.519007682800293
         ],
         "yaxis": "y"
        },
        {
         "hovertemplate": "Full Name=Ty Jerome<br>LDA Component 1=%{x}<br>LDA Component 2=%{y}<br>Age=%{marker.size}<extra></extra>",
         "legendgroup": "Ty Jerome",
         "marker": {
          "color": "orange",
          "size": [
           22,
           23
          ],
          "sizemode": "area",
          "sizeref": 0.0875,
          "symbol": "circle"
         },
         "mode": "markers",
         "name": "Ty Jerome",
         "orientation": "v",
         "showlegend": true,
         "type": "scatter",
         "x": [
          -1.5820790529251099,
          -3.125572681427002
         ],
         "xaxis": "x",
         "y": [
          5.1573004722595215,
          1.4817460775375366
         ],
         "yaxis": "y"
        },
        {
         "hovertemplate": "Full Name=Darius Miller<br>LDA Component 1=%{x}<br>LDA Component 2=%{y}<br>Age=%{marker.size}<extra></extra>",
         "legendgroup": "Darius Miller",
         "marker": {
          "color": "teal",
          "size": [
           23,
           24,
           25,
           28,
           29,
           31
          ],
          "sizemode": "area",
          "sizeref": 0.0875,
          "symbol": "circle"
         },
         "mode": "markers",
         "name": "Darius Miller",
         "orientation": "v",
         "showlegend": true,
         "type": "scatter",
         "x": [
          -2.5220775604248047,
          -2.357769250869751,
          -0.5621864199638367,
          -2.573139190673828,
          -1.787946105003357,
          -3.664825677871704
         ],
         "xaxis": "x",
         "y": [
          3.6152210235595703,
          2.9306650161743164,
          7.238001823425293,
          -2.376784086227417,
          -2.7225499153137207,
          4.690548896789551
         ],
         "yaxis": "y"
        },
        {
         "hovertemplate": "Full Name=Mike Muscala<br>LDA Component 1=%{x}<br>LDA Component 2=%{y}<br>Age=%{marker.size}<extra></extra>",
         "legendgroup": "Mike Muscala",
         "marker": {
          "color": "beige",
          "size": [
           22,
           23,
           24,
           25,
           26,
           27,
           27,
           27,
           28,
           29
          ],
          "sizemode": "area",
          "sizeref": 0.0875,
          "symbol": "circle"
         },
         "mode": "markers",
         "name": "Mike Muscala",
         "orientation": "v",
         "showlegend": true,
         "type": "scatter",
         "x": [
          0.655080258846283,
          -4.603461265563965,
          -3.981621026992798,
          -3.601168155670166,
          -2.740993022918701,
          -3.0542445182800293,
          -3.1648669242858887,
          -3.237163543701172,
          -2.653078317642212,
          -3.176205635070801
         ],
         "xaxis": "x",
         "y": [
          5.332098960876465,
          3.1397974491119385,
          2.8039662837982178,
          -1.5243524312973022,
          -0.3255690634250641,
          0.31156420707702637,
          4.861277103424072,
          -0.5601897239685059,
          3.8716166019439697,
          3.281996488571167
         ],
         "yaxis": "y"
        },
        {
         "hovertemplate": "Full Name=Svi Mykhailiuk<br>LDA Component 1=%{x}<br>LDA Component 2=%{y}<br>Age=%{marker.size}<extra></extra>",
         "legendgroup": "Svi Mykhailiuk",
         "marker": {
          "color": "red",
          "size": [
           22,
           22,
           22,
           23,
           23,
           23,
           23
          ],
          "sizemode": "area",
          "sizeref": 0.0875,
          "symbol": "circle"
         },
         "mode": "markers",
         "name": "Svi Mykhailiuk",
         "orientation": "v",
         "showlegend": true,
         "type": "scatter",
         "x": [
          -1.8334290981292725,
          -2.6360576152801514,
          -1.807107925415039,
          -1.4118072986602783,
          -1.6622432470321655,
          -2.4122703075408936,
          -1.2654458284378052
         ],
         "xaxis": "x",
         "y": [
          5.179540157318115,
          6.6413254737854,
          5.108390808105469,
          -1.9324078559875488,
          2.7836973667144775,
          2.0125181674957275,
          -3.1919238567352295
         ],
         "yaxis": "y"
        },
        {
         "hovertemplate": "Full Name=Justin Robinson<br>LDA Component 1=%{x}<br>LDA Component 2=%{y}<br>Age=%{marker.size}<extra></extra>",
         "legendgroup": "Justin Robinson",
         "marker": {
          "color": "green",
          "size": [
           22,
           23
          ],
          "sizemode": "area",
          "sizeref": 0.0875,
          "symbol": "circle"
         },
         "mode": "markers",
         "name": "Justin Robinson",
         "orientation": "v",
         "showlegend": true,
         "type": "scatter",
         "x": [
          -3.904092788696289,
          -1.743300199508667
         ],
         "xaxis": "x",
         "y": [
          5.699443340301514,
          6.074821949005127
         ],
         "yaxis": "y"
        },
        {
         "hovertemplate": "Full Name=Isaiah Roby<br>LDA Component 1=%{x}<br>LDA Component 2=%{y}<br>Age=%{marker.size}<extra></extra>",
         "legendgroup": "Isaiah Roby",
         "marker": {
          "color": "blue",
          "size": [
           22,
           23
          ],
          "sizemode": "area",
          "sizeref": 0.0875,
          "symbol": "circle"
         },
         "mode": "markers",
         "name": "Isaiah Roby",
         "orientation": "v",
         "showlegend": true,
         "type": "scatter",
         "x": [
          -0.6173572540283203,
          -1.254839539527893
         ],
         "xaxis": "x",
         "y": [
          7.4677910804748535,
          -4.415736675262451
         ],
         "yaxis": "y"
        },
        {
         "hovertemplate": "Full Name=Kenrich Williams<br>LDA Component 1=%{x}<br>LDA Component 2=%{y}<br>Age=%{marker.size}<extra></extra>",
         "legendgroup": "Kenrich Williams",
         "marker": {
          "color": "goldenrod",
          "size": [
           24,
           25,
           26
          ],
          "sizemode": "area",
          "sizeref": 0.0875,
          "symbol": "circle"
         },
         "mode": "markers",
         "name": "Kenrich Williams",
         "orientation": "v",
         "showlegend": true,
         "type": "scatter",
         "x": [
          -1.2599670886993408,
          -0.8258007168769836,
          -2.4165947437286377
         ],
         "xaxis": "x",
         "y": [
          -0.33648353815078735,
          2.045681953430176,
          -3.8776328563690186
         ],
         "yaxis": "y"
        }
       ],
       "layout": {
        "legend": {
         "itemsizing": "constant",
         "title": {
          "text": "Full Name"
         },
         "tracegroupgap": 0
        },
        "template": {
         "data": {
          "bar": [
           {
            "error_x": {
             "color": "#2a3f5f"
            },
            "error_y": {
             "color": "#2a3f5f"
            },
            "marker": {
             "line": {
              "color": "#E5ECF6",
              "width": 0.5
             }
            },
            "type": "bar"
           }
          ],
          "barpolar": [
           {
            "marker": {
             "line": {
              "color": "#E5ECF6",
              "width": 0.5
             }
            },
            "type": "barpolar"
           }
          ],
          "carpet": [
           {
            "aaxis": {
             "endlinecolor": "#2a3f5f",
             "gridcolor": "white",
             "linecolor": "white",
             "minorgridcolor": "white",
             "startlinecolor": "#2a3f5f"
            },
            "baxis": {
             "endlinecolor": "#2a3f5f",
             "gridcolor": "white",
             "linecolor": "white",
             "minorgridcolor": "white",
             "startlinecolor": "#2a3f5f"
            },
            "type": "carpet"
           }
          ],
          "choropleth": [
           {
            "colorbar": {
             "outlinewidth": 0,
             "ticks": ""
            },
            "type": "choropleth"
           }
          ],
          "contour": [
           {
            "colorbar": {
             "outlinewidth": 0,
             "ticks": ""
            },
            "colorscale": [
             [
              0,
              "#0d0887"
             ],
             [
              0.1111111111111111,
              "#46039f"
             ],
             [
              0.2222222222222222,
              "#7201a8"
             ],
             [
              0.3333333333333333,
              "#9c179e"
             ],
             [
              0.4444444444444444,
              "#bd3786"
             ],
             [
              0.5555555555555556,
              "#d8576b"
             ],
             [
              0.6666666666666666,
              "#ed7953"
             ],
             [
              0.7777777777777778,
              "#fb9f3a"
             ],
             [
              0.8888888888888888,
              "#fdca26"
             ],
             [
              1,
              "#f0f921"
             ]
            ],
            "type": "contour"
           }
          ],
          "contourcarpet": [
           {
            "colorbar": {
             "outlinewidth": 0,
             "ticks": ""
            },
            "type": "contourcarpet"
           }
          ],
          "heatmap": [
           {
            "colorbar": {
             "outlinewidth": 0,
             "ticks": ""
            },
            "colorscale": [
             [
              0,
              "#0d0887"
             ],
             [
              0.1111111111111111,
              "#46039f"
             ],
             [
              0.2222222222222222,
              "#7201a8"
             ],
             [
              0.3333333333333333,
              "#9c179e"
             ],
             [
              0.4444444444444444,
              "#bd3786"
             ],
             [
              0.5555555555555556,
              "#d8576b"
             ],
             [
              0.6666666666666666,
              "#ed7953"
             ],
             [
              0.7777777777777778,
              "#fb9f3a"
             ],
             [
              0.8888888888888888,
              "#fdca26"
             ],
             [
              1,
              "#f0f921"
             ]
            ],
            "type": "heatmap"
           }
          ],
          "heatmapgl": [
           {
            "colorbar": {
             "outlinewidth": 0,
             "ticks": ""
            },
            "colorscale": [
             [
              0,
              "#0d0887"
             ],
             [
              0.1111111111111111,
              "#46039f"
             ],
             [
              0.2222222222222222,
              "#7201a8"
             ],
             [
              0.3333333333333333,
              "#9c179e"
             ],
             [
              0.4444444444444444,
              "#bd3786"
             ],
             [
              0.5555555555555556,
              "#d8576b"
             ],
             [
              0.6666666666666666,
              "#ed7953"
             ],
             [
              0.7777777777777778,
              "#fb9f3a"
             ],
             [
              0.8888888888888888,
              "#fdca26"
             ],
             [
              1,
              "#f0f921"
             ]
            ],
            "type": "heatmapgl"
           }
          ],
          "histogram": [
           {
            "marker": {
             "colorbar": {
              "outlinewidth": 0,
              "ticks": ""
             }
            },
            "type": "histogram"
           }
          ],
          "histogram2d": [
           {
            "colorbar": {
             "outlinewidth": 0,
             "ticks": ""
            },
            "colorscale": [
             [
              0,
              "#0d0887"
             ],
             [
              0.1111111111111111,
              "#46039f"
             ],
             [
              0.2222222222222222,
              "#7201a8"
             ],
             [
              0.3333333333333333,
              "#9c179e"
             ],
             [
              0.4444444444444444,
              "#bd3786"
             ],
             [
              0.5555555555555556,
              "#d8576b"
             ],
             [
              0.6666666666666666,
              "#ed7953"
             ],
             [
              0.7777777777777778,
              "#fb9f3a"
             ],
             [
              0.8888888888888888,
              "#fdca26"
             ],
             [
              1,
              "#f0f921"
             ]
            ],
            "type": "histogram2d"
           }
          ],
          "histogram2dcontour": [
           {
            "colorbar": {
             "outlinewidth": 0,
             "ticks": ""
            },
            "colorscale": [
             [
              0,
              "#0d0887"
             ],
             [
              0.1111111111111111,
              "#46039f"
             ],
             [
              0.2222222222222222,
              "#7201a8"
             ],
             [
              0.3333333333333333,
              "#9c179e"
             ],
             [
              0.4444444444444444,
              "#bd3786"
             ],
             [
              0.5555555555555556,
              "#d8576b"
             ],
             [
              0.6666666666666666,
              "#ed7953"
             ],
             [
              0.7777777777777778,
              "#fb9f3a"
             ],
             [
              0.8888888888888888,
              "#fdca26"
             ],
             [
              1,
              "#f0f921"
             ]
            ],
            "type": "histogram2dcontour"
           }
          ],
          "mesh3d": [
           {
            "colorbar": {
             "outlinewidth": 0,
             "ticks": ""
            },
            "type": "mesh3d"
           }
          ],
          "parcoords": [
           {
            "line": {
             "colorbar": {
              "outlinewidth": 0,
              "ticks": ""
             }
            },
            "type": "parcoords"
           }
          ],
          "pie": [
           {
            "automargin": true,
            "type": "pie"
           }
          ],
          "scatter": [
           {
            "marker": {
             "colorbar": {
              "outlinewidth": 0,
              "ticks": ""
             }
            },
            "type": "scatter"
           }
          ],
          "scatter3d": [
           {
            "line": {
             "colorbar": {
              "outlinewidth": 0,
              "ticks": ""
             }
            },
            "marker": {
             "colorbar": {
              "outlinewidth": 0,
              "ticks": ""
             }
            },
            "type": "scatter3d"
           }
          ],
          "scattercarpet": [
           {
            "marker": {
             "colorbar": {
              "outlinewidth": 0,
              "ticks": ""
             }
            },
            "type": "scattercarpet"
           }
          ],
          "scattergeo": [
           {
            "marker": {
             "colorbar": {
              "outlinewidth": 0,
              "ticks": ""
             }
            },
            "type": "scattergeo"
           }
          ],
          "scattergl": [
           {
            "marker": {
             "colorbar": {
              "outlinewidth": 0,
              "ticks": ""
             }
            },
            "type": "scattergl"
           }
          ],
          "scattermapbox": [
           {
            "marker": {
             "colorbar": {
              "outlinewidth": 0,
              "ticks": ""
             }
            },
            "type": "scattermapbox"
           }
          ],
          "scatterpolar": [
           {
            "marker": {
             "colorbar": {
              "outlinewidth": 0,
              "ticks": ""
             }
            },
            "type": "scatterpolar"
           }
          ],
          "scatterpolargl": [
           {
            "marker": {
             "colorbar": {
              "outlinewidth": 0,
              "ticks": ""
             }
            },
            "type": "scatterpolargl"
           }
          ],
          "scatterternary": [
           {
            "marker": {
             "colorbar": {
              "outlinewidth": 0,
              "ticks": ""
             }
            },
            "type": "scatterternary"
           }
          ],
          "surface": [
           {
            "colorbar": {
             "outlinewidth": 0,
             "ticks": ""
            },
            "colorscale": [
             [
              0,
              "#0d0887"
             ],
             [
              0.1111111111111111,
              "#46039f"
             ],
             [
              0.2222222222222222,
              "#7201a8"
             ],
             [
              0.3333333333333333,
              "#9c179e"
             ],
             [
              0.4444444444444444,
              "#bd3786"
             ],
             [
              0.5555555555555556,
              "#d8576b"
             ],
             [
              0.6666666666666666,
              "#ed7953"
             ],
             [
              0.7777777777777778,
              "#fb9f3a"
             ],
             [
              0.8888888888888888,
              "#fdca26"
             ],
             [
              1,
              "#f0f921"
             ]
            ],
            "type": "surface"
           }
          ],
          "table": [
           {
            "cells": {
             "fill": {
              "color": "#EBF0F8"
             },
             "line": {
              "color": "white"
             }
            },
            "header": {
             "fill": {
              "color": "#C8D4E3"
             },
             "line": {
              "color": "white"
             }
            },
            "type": "table"
           }
          ]
         },
         "layout": {
          "annotationdefaults": {
           "arrowcolor": "#2a3f5f",
           "arrowhead": 0,
           "arrowwidth": 1
          },
          "autotypenumbers": "strict",
          "coloraxis": {
           "colorbar": {
            "outlinewidth": 0,
            "ticks": ""
           }
          },
          "colorscale": {
           "diverging": [
            [
             0,
             "#8e0152"
            ],
            [
             0.1,
             "#c51b7d"
            ],
            [
             0.2,
             "#de77ae"
            ],
            [
             0.3,
             "#f1b6da"
            ],
            [
             0.4,
             "#fde0ef"
            ],
            [
             0.5,
             "#f7f7f7"
            ],
            [
             0.6,
             "#e6f5d0"
            ],
            [
             0.7,
             "#b8e186"
            ],
            [
             0.8,
             "#7fbc41"
            ],
            [
             0.9,
             "#4d9221"
            ],
            [
             1,
             "#276419"
            ]
           ],
           "sequential": [
            [
             0,
             "#0d0887"
            ],
            [
             0.1111111111111111,
             "#46039f"
            ],
            [
             0.2222222222222222,
             "#7201a8"
            ],
            [
             0.3333333333333333,
             "#9c179e"
            ],
            [
             0.4444444444444444,
             "#bd3786"
            ],
            [
             0.5555555555555556,
             "#d8576b"
            ],
            [
             0.6666666666666666,
             "#ed7953"
            ],
            [
             0.7777777777777778,
             "#fb9f3a"
            ],
            [
             0.8888888888888888,
             "#fdca26"
            ],
            [
             1,
             "#f0f921"
            ]
           ],
           "sequentialminus": [
            [
             0,
             "#0d0887"
            ],
            [
             0.1111111111111111,
             "#46039f"
            ],
            [
             0.2222222222222222,
             "#7201a8"
            ],
            [
             0.3333333333333333,
             "#9c179e"
            ],
            [
             0.4444444444444444,
             "#bd3786"
            ],
            [
             0.5555555555555556,
             "#d8576b"
            ],
            [
             0.6666666666666666,
             "#ed7953"
            ],
            [
             0.7777777777777778,
             "#fb9f3a"
            ],
            [
             0.8888888888888888,
             "#fdca26"
            ],
            [
             1,
             "#f0f921"
            ]
           ]
          },
          "colorway": [
           "#636efa",
           "#EF553B",
           "#00cc96",
           "#ab63fa",
           "#FFA15A",
           "#19d3f3",
           "#FF6692",
           "#B6E880",
           "#FF97FF",
           "#FECB52"
          ],
          "font": {
           "color": "#2a3f5f"
          },
          "geo": {
           "bgcolor": "white",
           "lakecolor": "white",
           "landcolor": "#E5ECF6",
           "showlakes": true,
           "showland": true,
           "subunitcolor": "white"
          },
          "hoverlabel": {
           "align": "left"
          },
          "hovermode": "closest",
          "mapbox": {
           "style": "light"
          },
          "paper_bgcolor": "white",
          "plot_bgcolor": "#E5ECF6",
          "polar": {
           "angularaxis": {
            "gridcolor": "white",
            "linecolor": "white",
            "ticks": ""
           },
           "bgcolor": "#E5ECF6",
           "radialaxis": {
            "gridcolor": "white",
            "linecolor": "white",
            "ticks": ""
           }
          },
          "scene": {
           "xaxis": {
            "backgroundcolor": "#E5ECF6",
            "gridcolor": "white",
            "gridwidth": 2,
            "linecolor": "white",
            "showbackground": true,
            "ticks": "",
            "zerolinecolor": "white"
           },
           "yaxis": {
            "backgroundcolor": "#E5ECF6",
            "gridcolor": "white",
            "gridwidth": 2,
            "linecolor": "white",
            "showbackground": true,
            "ticks": "",
            "zerolinecolor": "white"
           },
           "zaxis": {
            "backgroundcolor": "#E5ECF6",
            "gridcolor": "white",
            "gridwidth": 2,
            "linecolor": "white",
            "showbackground": true,
            "ticks": "",
            "zerolinecolor": "white"
           }
          },
          "shapedefaults": {
           "line": {
            "color": "#2a3f5f"
           }
          },
          "ternary": {
           "aaxis": {
            "gridcolor": "white",
            "linecolor": "white",
            "ticks": ""
           },
           "baxis": {
            "gridcolor": "white",
            "linecolor": "white",
            "ticks": ""
           },
           "bgcolor": "#E5ECF6",
           "caxis": {
            "gridcolor": "white",
            "linecolor": "white",
            "ticks": ""
           }
          },
          "title": {
           "x": 0.05
          },
          "xaxis": {
           "automargin": true,
           "gridcolor": "white",
           "linecolor": "white",
           "ticks": "",
           "title": {
            "standoff": 15
           },
           "zerolinecolor": "white",
           "zerolinewidth": 2
          },
          "yaxis": {
           "automargin": true,
           "gridcolor": "white",
           "linecolor": "white",
           "ticks": "",
           "title": {
            "standoff": 15
           },
           "zerolinecolor": "white",
           "zerolinewidth": 2
          }
         }
        },
        "title": {
         "text": "NBA LDA"
        },
        "xaxis": {
         "anchor": "y",
         "domain": [
          0,
          1
         ],
         "title": {
          "text": "LDA Component 1"
         }
        },
        "yaxis": {
         "anchor": "x",
         "domain": [
          0,
          1
         ],
         "title": {
          "text": "LDA Component 2"
         }
        }
       }
      },
      "text/html": [
       "<div>                            <div id=\"23626193-f7c5-488e-9520-9d1ba653d209\" class=\"plotly-graph-div\" style=\"height:525px; width:100%;\"></div>            <script type=\"text/javascript\">                require([\"plotly\"], function(Plotly) {                    window.PLOTLYENV=window.PLOTLYENV || {};                                    if (document.getElementById(\"23626193-f7c5-488e-9520-9d1ba653d209\")) {                    Plotly.newPlot(                        \"23626193-f7c5-488e-9520-9d1ba653d209\",                        [{\"hovertemplate\": \"Full Name=Darius Bazley<br>LDA Component 1=%{x}<br>LDA Component 2=%{y}<br>Age=%{marker.size}<extra></extra>\", \"legendgroup\": \"Darius Bazley\", \"marker\": {\"color\": \"red\", \"size\": [20, 20], \"sizemode\": \"area\", \"sizeref\": 0.0875, \"symbol\": \"circle\"}, \"mode\": \"markers\", \"name\": \"Darius Bazley\", \"orientation\": \"v\", \"showlegend\": true, \"type\": \"scatter\", \"x\": [-3.4218268394470215, -0.7331313490867615], \"xaxis\": \"x\", \"y\": [-0.17938198149204254, -4.324922561645508], \"yaxis\": \"y\"}, {\"hovertemplate\": \"Full Name=Tony Bradley<br>LDA Component 1=%{x}<br>LDA Component 2=%{y}<br>Age=%{marker.size}<extra></extra>\", \"legendgroup\": \"Tony Bradley\", \"marker\": {\"color\": \"green\", \"size\": [20, 21, 22, 23, 23, 23], \"sizemode\": \"area\", \"sizeref\": 0.0875, \"symbol\": \"circle\"}, \"mode\": \"markers\", \"name\": \"Tony Bradley\", \"orientation\": \"v\", \"showlegend\": true, \"type\": \"scatter\", \"x\": [-0.3027583360671997, 1.0961025953292847, -5.698574066162109, 1.8338935375213623, 1.789748191833496, 1.7969489097595215], \"xaxis\": \"x\", \"y\": [6.557068824768066, 5.052975654602051, 2.5290141105651855, 3.7574262619018555, 3.6643149852752686, 3.320685386657715], \"yaxis\": \"y\"}, {\"hovertemplate\": \"Full Name=Moses Brown<br>LDA Component 1=%{x}<br>LDA Component 2=%{y}<br>Age=%{marker.size}<extra></extra>\", \"legendgroup\": \"Moses Brown\", \"marker\": {\"color\": \"blue\", \"size\": [20, 21], \"sizemode\": \"area\", \"sizeref\": 0.0875, \"symbol\": \"circle\"}, \"mode\": \"markers\", \"name\": \"Moses Brown\", \"orientation\": \"v\", \"showlegend\": true, \"type\": \"scatter\", \"x\": [0.4878064692020416, -5.045050144195557], \"xaxis\": \"x\", \"y\": [5.65861701965332, -0.019470319151878357], \"yaxis\": \"y\"}, {\"hovertemplate\": \"Full Name=Charles Brown Jr.<br>LDA Component 1=%{x}<br>LDA Component 2=%{y}<br>Age=%{marker.size}<extra></extra>\", \"legendgroup\": \"Charles Brown Jr.\", \"marker\": {\"color\": \"goldenrod\", \"size\": [23, 24], \"sizemode\": \"area\", \"sizeref\": 0.0875, \"symbol\": \"circle\"}, \"mode\": \"markers\", \"name\": \"Charles Brown Jr.\", \"orientation\": \"v\", \"showlegend\": true, \"type\": \"scatter\", \"x\": [-2.037195920944214, -1.3998404741287231], \"xaxis\": \"x\", \"y\": [6.223196983337402, 6.169601917266846], \"yaxis\": \"y\"}, {\"hovertemplate\": \"Full Name=Hamidou Diallo<br>LDA Component 1=%{x}<br>LDA Component 2=%{y}<br>Age=%{marker.size}<extra></extra>\", \"legendgroup\": \"Hamidou Diallo\", \"marker\": {\"color\": \"pink\", \"size\": [20, 21, 22, 22, 22], \"sizemode\": \"area\", \"sizeref\": 0.0875, \"symbol\": \"circle\"}, \"mode\": \"markers\", \"name\": \"Hamidou Diallo\", \"orientation\": \"v\", \"showlegend\": true, \"type\": \"scatter\", \"x\": [-0.6448811888694763, -1.6395747661590576, -2.030912160873413, -3.530376434326172, -2.0011260509490967], \"xaxis\": \"x\", \"y\": [3.6731812953948975, 0.5980364084243774, 0.48979583382606506, 3.4759812355041504, -3.2891228199005127], \"yaxis\": \"y\"}, {\"hovertemplate\": \"Full Name=Luguentz Dort<br>LDA Component 1=%{x}<br>LDA Component 2=%{y}<br>Age=%{marker.size}<extra></extra>\", \"legendgroup\": \"Luguentz Dort\", \"marker\": {\"color\": \"black\", \"size\": [21, 22], \"sizemode\": \"area\", \"sizeref\": 0.0875, \"symbol\": \"circle\"}, \"mode\": \"markers\", \"name\": \"Luguentz Dort\", \"orientation\": \"v\", \"showlegend\": true, \"type\": \"scatter\", \"x\": [-1.42636239528656, -1.1693686246871948], \"xaxis\": \"x\", \"y\": [2.746858596801758, -3.3112246990203857], \"yaxis\": \"y\"}, {\"hovertemplate\": \"Full Name=Shai Gilgeous-Alexander<br>LDA Component 1=%{x}<br>LDA Component 2=%{y}<br>Age=%{marker.size}<extra></extra>\", \"legendgroup\": \"Shai Gilgeous-Alexander\", \"marker\": {\"color\": \"orchid\", \"size\": [20, 21, 22], \"sizemode\": \"area\", \"sizeref\": 0.0875, \"symbol\": \"circle\"}, \"mode\": \"markers\", \"name\": \"Shai Gilgeous-Alexander\", \"orientation\": \"v\", \"showlegend\": true, \"type\": \"scatter\", \"x\": [-2.8245744705200195, -2.4745144844055176, -3.321580171585083], \"xaxis\": \"x\", \"y\": [-6.762482643127441, -7.26710844039917, -4.245192050933838], \"yaxis\": \"y\"}, {\"hovertemplate\": \"Full Name=George Hill<br>LDA Component 1=%{x}<br>LDA Component 2=%{y}<br>Age=%{marker.size}<extra></extra>\", \"legendgroup\": \"George Hill\", \"marker\": {\"color\": \"gray\", \"size\": [23, 24, 25, 26, 27, 28, 29, 30, 31, 32, 32, 32, 33, 33, 33, 34, 35, 35, 35], \"sizemode\": \"area\", \"sizeref\": 0.0875, \"symbol\": \"circle\"}, \"mode\": \"markers\", \"name\": \"George Hill\", \"orientation\": \"v\", \"showlegend\": true, \"type\": \"scatter\", \"x\": [-1.333054780960083, -2.498812675476074, -2.388824939727783, -1.8841383457183838, -2.8680806159973145, -2.48297119140625, -2.772390842437744, -2.7916369438171387, -2.68900728225708, -2.1864101886749268, -2.6881535053253174, -2.2240185737609863, -4.458714485168457, -1.2872117757797241, -1.3289897441864014, -2.9085652828216553, -4.118495464324951, -3.2074596881866455, -3.2335617542266846], \"xaxis\": \"x\", \"y\": [-2.6875076293945312, -5.845530986785889, -5.465804100036621, -2.2155699729919434, -6.66537618637085, -6.072862148284912, -3.925161123275757, -6.17628812789917, -4.49275541305542, -2.040184736251831, 2.59142804145813, -4.8344340324401855, 4.10154914855957, 0.38575538992881775, -2.137085199356079, -3.3284685611724854, 4.048034191131592, 4.4612884521484375, 2.4005866050720215], \"yaxis\": \"y\"}, {\"hovertemplate\": \"Full Name=Jaylen Hoard<br>LDA Component 1=%{x}<br>LDA Component 2=%{y}<br>Age=%{marker.size}<extra></extra>\", \"legendgroup\": \"Jaylen Hoard\", \"marker\": {\"color\": \"yellow\", \"size\": [21, 22], \"sizemode\": \"area\", \"sizeref\": 0.0875, \"symbol\": \"circle\"}, \"mode\": \"markers\", \"name\": \"Jaylen Hoard\", \"orientation\": \"v\", \"showlegend\": true, \"type\": \"scatter\", \"x\": [0.9106398820877075, 1.0317569971084595], \"xaxis\": \"x\", \"y\": [5.169701099395752, 4.677160263061523], \"yaxis\": \"y\"}, {\"hovertemplate\": \"Full Name=Al Horford<br>LDA Component 1=%{x}<br>LDA Component 2=%{y}<br>Age=%{marker.size}<extra></extra>\", \"legendgroup\": \"Al Horford\", \"marker\": {\"color\": \"cyan\", \"size\": [22, 23, 24, 25, 26, 27, 28, 29, 30, 31, 32, 33, 34, 34], \"sizemode\": \"area\", \"sizeref\": 0.0875, \"symbol\": \"circle\"}, \"mode\": \"markers\", \"name\": \"Al Horford\", \"orientation\": \"v\", \"showlegend\": true, \"type\": \"scatter\", \"x\": [-0.25976496934890747, -0.3560754358768463, -2.318683385848999, -1.846258521080017, 1.386226773262024, -2.008659839630127, -4.0320234298706055, -1.2223467826843262, -1.250506043434143, -1.5287554264068604, -1.7277412414550781, -1.3983378410339355, -1.4806268215179443, -2.76267147064209], \"xaxis\": \"x\", \"y\": [-7.944275856018066, -7.924375057220459, -9.007261276245117, -8.428189277648926, 4.343605041503906, -8.531477928161621, -1.6021716594696045, -8.089722633361816, -8.427000999450684, -7.5939860343933105, -7.75468635559082, -7.6108880043029785, -6.9900641441345215, 0.5026789307594299], \"yaxis\": \"y\"}, {\"hovertemplate\": \"Full Name=Justin Jackson<br>LDA Component 1=%{x}<br>LDA Component 2=%{y}<br>Age=%{marker.size}<extra></extra>\", \"legendgroup\": \"Justin Jackson\", \"marker\": {\"color\": \"purple\", \"size\": [23, 24, 24, 24, 25, 26, 26, 26], \"sizemode\": \"area\", \"sizeref\": 0.0875, \"symbol\": \"circle\"}, \"mode\": \"markers\", \"name\": \"Justin Jackson\", \"orientation\": \"v\", \"showlegend\": true, \"type\": \"scatter\", \"x\": [-2.0947277545928955, -2.174887180328369, -3.7312607765197754, -2.1950876712799072, -1.6771643161773682, -1.9152984619140625, -2.139862298965454, -1.8990451097488403], \"xaxis\": \"x\", \"y\": [-0.7320777773857117, 1.3761308193206787, 3.9868924617767334, -1.2754095792770386, 2.0329787731170654, 3.6083755493164062, 6.159694194793701, 3.519007682800293], \"yaxis\": \"y\"}, {\"hovertemplate\": \"Full Name=Ty Jerome<br>LDA Component 1=%{x}<br>LDA Component 2=%{y}<br>Age=%{marker.size}<extra></extra>\", \"legendgroup\": \"Ty Jerome\", \"marker\": {\"color\": \"orange\", \"size\": [22, 23], \"sizemode\": \"area\", \"sizeref\": 0.0875, \"symbol\": \"circle\"}, \"mode\": \"markers\", \"name\": \"Ty Jerome\", \"orientation\": \"v\", \"showlegend\": true, \"type\": \"scatter\", \"x\": [-1.5820790529251099, -3.125572681427002], \"xaxis\": \"x\", \"y\": [5.1573004722595215, 1.4817460775375366], \"yaxis\": \"y\"}, {\"hovertemplate\": \"Full Name=Darius Miller<br>LDA Component 1=%{x}<br>LDA Component 2=%{y}<br>Age=%{marker.size}<extra></extra>\", \"legendgroup\": \"Darius Miller\", \"marker\": {\"color\": \"teal\", \"size\": [23, 24, 25, 28, 29, 31], \"sizemode\": \"area\", \"sizeref\": 0.0875, \"symbol\": \"circle\"}, \"mode\": \"markers\", \"name\": \"Darius Miller\", \"orientation\": \"v\", \"showlegend\": true, \"type\": \"scatter\", \"x\": [-2.5220775604248047, -2.357769250869751, -0.5621864199638367, -2.573139190673828, -1.787946105003357, -3.664825677871704], \"xaxis\": \"x\", \"y\": [3.6152210235595703, 2.9306650161743164, 7.238001823425293, -2.376784086227417, -2.7225499153137207, 4.690548896789551], \"yaxis\": \"y\"}, {\"hovertemplate\": \"Full Name=Mike Muscala<br>LDA Component 1=%{x}<br>LDA Component 2=%{y}<br>Age=%{marker.size}<extra></extra>\", \"legendgroup\": \"Mike Muscala\", \"marker\": {\"color\": \"beige\", \"size\": [22, 23, 24, 25, 26, 27, 27, 27, 28, 29], \"sizemode\": \"area\", \"sizeref\": 0.0875, \"symbol\": \"circle\"}, \"mode\": \"markers\", \"name\": \"Mike Muscala\", \"orientation\": \"v\", \"showlegend\": true, \"type\": \"scatter\", \"x\": [0.655080258846283, -4.603461265563965, -3.981621026992798, -3.601168155670166, -2.740993022918701, -3.0542445182800293, -3.1648669242858887, -3.237163543701172, -2.653078317642212, -3.176205635070801], \"xaxis\": \"x\", \"y\": [5.332098960876465, 3.1397974491119385, 2.8039662837982178, -1.5243524312973022, -0.3255690634250641, 0.31156420707702637, 4.861277103424072, -0.5601897239685059, 3.8716166019439697, 3.281996488571167], \"yaxis\": \"y\"}, {\"hovertemplate\": \"Full Name=Svi Mykhailiuk<br>LDA Component 1=%{x}<br>LDA Component 2=%{y}<br>Age=%{marker.size}<extra></extra>\", \"legendgroup\": \"Svi Mykhailiuk\", \"marker\": {\"color\": \"red\", \"size\": [22, 22, 22, 23, 23, 23, 23], \"sizemode\": \"area\", \"sizeref\": 0.0875, \"symbol\": \"circle\"}, \"mode\": \"markers\", \"name\": \"Svi Mykhailiuk\", \"orientation\": \"v\", \"showlegend\": true, \"type\": \"scatter\", \"x\": [-1.8334290981292725, -2.6360576152801514, -1.807107925415039, -1.4118072986602783, -1.6622432470321655, -2.4122703075408936, -1.2654458284378052], \"xaxis\": \"x\", \"y\": [5.179540157318115, 6.6413254737854, 5.108390808105469, -1.9324078559875488, 2.7836973667144775, 2.0125181674957275, -3.1919238567352295], \"yaxis\": \"y\"}, {\"hovertemplate\": \"Full Name=Justin Robinson<br>LDA Component 1=%{x}<br>LDA Component 2=%{y}<br>Age=%{marker.size}<extra></extra>\", \"legendgroup\": \"Justin Robinson\", \"marker\": {\"color\": \"green\", \"size\": [22, 23], \"sizemode\": \"area\", \"sizeref\": 0.0875, \"symbol\": \"circle\"}, \"mode\": \"markers\", \"name\": \"Justin Robinson\", \"orientation\": \"v\", \"showlegend\": true, \"type\": \"scatter\", \"x\": [-3.904092788696289, -1.743300199508667], \"xaxis\": \"x\", \"y\": [5.699443340301514, 6.074821949005127], \"yaxis\": \"y\"}, {\"hovertemplate\": \"Full Name=Isaiah Roby<br>LDA Component 1=%{x}<br>LDA Component 2=%{y}<br>Age=%{marker.size}<extra></extra>\", \"legendgroup\": \"Isaiah Roby\", \"marker\": {\"color\": \"blue\", \"size\": [22, 23], \"sizemode\": \"area\", \"sizeref\": 0.0875, \"symbol\": \"circle\"}, \"mode\": \"markers\", \"name\": \"Isaiah Roby\", \"orientation\": \"v\", \"showlegend\": true, \"type\": \"scatter\", \"x\": [-0.6173572540283203, -1.254839539527893], \"xaxis\": \"x\", \"y\": [7.4677910804748535, -4.415736675262451], \"yaxis\": \"y\"}, {\"hovertemplate\": \"Full Name=Kenrich Williams<br>LDA Component 1=%{x}<br>LDA Component 2=%{y}<br>Age=%{marker.size}<extra></extra>\", \"legendgroup\": \"Kenrich Williams\", \"marker\": {\"color\": \"goldenrod\", \"size\": [24, 25, 26], \"sizemode\": \"area\", \"sizeref\": 0.0875, \"symbol\": \"circle\"}, \"mode\": \"markers\", \"name\": \"Kenrich Williams\", \"orientation\": \"v\", \"showlegend\": true, \"type\": \"scatter\", \"x\": [-1.2599670886993408, -0.8258007168769836, -2.4165947437286377], \"xaxis\": \"x\", \"y\": [-0.33648353815078735, 2.045681953430176, -3.8776328563690186], \"yaxis\": \"y\"}],                        {\"legend\": {\"itemsizing\": \"constant\", \"title\": {\"text\": \"Full Name\"}, \"tracegroupgap\": 0}, \"template\": {\"data\": {\"bar\": [{\"error_x\": {\"color\": \"#2a3f5f\"}, \"error_y\": {\"color\": \"#2a3f5f\"}, \"marker\": {\"line\": {\"color\": \"#E5ECF6\", \"width\": 0.5}}, \"type\": \"bar\"}], \"barpolar\": [{\"marker\": {\"line\": {\"color\": \"#E5ECF6\", \"width\": 0.5}}, \"type\": \"barpolar\"}], \"carpet\": [{\"aaxis\": {\"endlinecolor\": \"#2a3f5f\", \"gridcolor\": \"white\", \"linecolor\": \"white\", \"minorgridcolor\": \"white\", \"startlinecolor\": \"#2a3f5f\"}, \"baxis\": {\"endlinecolor\": \"#2a3f5f\", \"gridcolor\": \"white\", \"linecolor\": \"white\", \"minorgridcolor\": \"white\", \"startlinecolor\": \"#2a3f5f\"}, \"type\": \"carpet\"}], \"choropleth\": [{\"colorbar\": {\"outlinewidth\": 0, \"ticks\": \"\"}, \"type\": \"choropleth\"}], \"contour\": [{\"colorbar\": {\"outlinewidth\": 0, \"ticks\": \"\"}, \"colorscale\": [[0.0, \"#0d0887\"], [0.1111111111111111, \"#46039f\"], [0.2222222222222222, \"#7201a8\"], [0.3333333333333333, \"#9c179e\"], [0.4444444444444444, \"#bd3786\"], [0.5555555555555556, \"#d8576b\"], [0.6666666666666666, \"#ed7953\"], [0.7777777777777778, \"#fb9f3a\"], [0.8888888888888888, \"#fdca26\"], [1.0, \"#f0f921\"]], \"type\": \"contour\"}], \"contourcarpet\": [{\"colorbar\": {\"outlinewidth\": 0, \"ticks\": \"\"}, \"type\": \"contourcarpet\"}], \"heatmap\": [{\"colorbar\": {\"outlinewidth\": 0, \"ticks\": \"\"}, \"colorscale\": [[0.0, \"#0d0887\"], [0.1111111111111111, \"#46039f\"], [0.2222222222222222, \"#7201a8\"], [0.3333333333333333, \"#9c179e\"], [0.4444444444444444, \"#bd3786\"], [0.5555555555555556, \"#d8576b\"], [0.6666666666666666, \"#ed7953\"], [0.7777777777777778, \"#fb9f3a\"], [0.8888888888888888, \"#fdca26\"], [1.0, \"#f0f921\"]], \"type\": \"heatmap\"}], \"heatmapgl\": [{\"colorbar\": {\"outlinewidth\": 0, \"ticks\": \"\"}, \"colorscale\": [[0.0, \"#0d0887\"], [0.1111111111111111, \"#46039f\"], [0.2222222222222222, \"#7201a8\"], [0.3333333333333333, \"#9c179e\"], [0.4444444444444444, \"#bd3786\"], [0.5555555555555556, \"#d8576b\"], [0.6666666666666666, \"#ed7953\"], [0.7777777777777778, \"#fb9f3a\"], [0.8888888888888888, \"#fdca26\"], [1.0, \"#f0f921\"]], \"type\": \"heatmapgl\"}], \"histogram\": [{\"marker\": {\"colorbar\": {\"outlinewidth\": 0, \"ticks\": \"\"}}, \"type\": \"histogram\"}], \"histogram2d\": [{\"colorbar\": {\"outlinewidth\": 0, \"ticks\": \"\"}, \"colorscale\": [[0.0, \"#0d0887\"], [0.1111111111111111, \"#46039f\"], [0.2222222222222222, \"#7201a8\"], [0.3333333333333333, \"#9c179e\"], [0.4444444444444444, \"#bd3786\"], [0.5555555555555556, \"#d8576b\"], [0.6666666666666666, \"#ed7953\"], [0.7777777777777778, \"#fb9f3a\"], [0.8888888888888888, \"#fdca26\"], [1.0, \"#f0f921\"]], \"type\": \"histogram2d\"}], \"histogram2dcontour\": [{\"colorbar\": {\"outlinewidth\": 0, \"ticks\": \"\"}, \"colorscale\": [[0.0, \"#0d0887\"], [0.1111111111111111, \"#46039f\"], [0.2222222222222222, \"#7201a8\"], [0.3333333333333333, \"#9c179e\"], [0.4444444444444444, \"#bd3786\"], [0.5555555555555556, \"#d8576b\"], [0.6666666666666666, \"#ed7953\"], [0.7777777777777778, \"#fb9f3a\"], [0.8888888888888888, \"#fdca26\"], [1.0, \"#f0f921\"]], \"type\": \"histogram2dcontour\"}], \"mesh3d\": [{\"colorbar\": {\"outlinewidth\": 0, \"ticks\": \"\"}, \"type\": \"mesh3d\"}], \"parcoords\": [{\"line\": {\"colorbar\": {\"outlinewidth\": 0, \"ticks\": \"\"}}, \"type\": \"parcoords\"}], \"pie\": [{\"automargin\": true, \"type\": \"pie\"}], \"scatter\": [{\"marker\": {\"colorbar\": {\"outlinewidth\": 0, \"ticks\": \"\"}}, \"type\": \"scatter\"}], \"scatter3d\": [{\"line\": {\"colorbar\": {\"outlinewidth\": 0, \"ticks\": \"\"}}, \"marker\": {\"colorbar\": {\"outlinewidth\": 0, \"ticks\": \"\"}}, \"type\": \"scatter3d\"}], \"scattercarpet\": [{\"marker\": {\"colorbar\": {\"outlinewidth\": 0, \"ticks\": \"\"}}, \"type\": \"scattercarpet\"}], \"scattergeo\": [{\"marker\": {\"colorbar\": {\"outlinewidth\": 0, \"ticks\": \"\"}}, \"type\": \"scattergeo\"}], \"scattergl\": [{\"marker\": {\"colorbar\": {\"outlinewidth\": 0, \"ticks\": \"\"}}, \"type\": \"scattergl\"}], \"scattermapbox\": [{\"marker\": {\"colorbar\": {\"outlinewidth\": 0, \"ticks\": \"\"}}, \"type\": \"scattermapbox\"}], \"scatterpolar\": [{\"marker\": {\"colorbar\": {\"outlinewidth\": 0, \"ticks\": \"\"}}, \"type\": \"scatterpolar\"}], \"scatterpolargl\": [{\"marker\": {\"colorbar\": {\"outlinewidth\": 0, \"ticks\": \"\"}}, \"type\": \"scatterpolargl\"}], \"scatterternary\": [{\"marker\": {\"colorbar\": {\"outlinewidth\": 0, \"ticks\": \"\"}}, \"type\": \"scatterternary\"}], \"surface\": [{\"colorbar\": {\"outlinewidth\": 0, \"ticks\": \"\"}, \"colorscale\": [[0.0, \"#0d0887\"], [0.1111111111111111, \"#46039f\"], [0.2222222222222222, \"#7201a8\"], [0.3333333333333333, \"#9c179e\"], [0.4444444444444444, \"#bd3786\"], [0.5555555555555556, \"#d8576b\"], [0.6666666666666666, \"#ed7953\"], [0.7777777777777778, \"#fb9f3a\"], [0.8888888888888888, \"#fdca26\"], [1.0, \"#f0f921\"]], \"type\": \"surface\"}], \"table\": [{\"cells\": {\"fill\": {\"color\": \"#EBF0F8\"}, \"line\": {\"color\": \"white\"}}, \"header\": {\"fill\": {\"color\": \"#C8D4E3\"}, \"line\": {\"color\": \"white\"}}, \"type\": \"table\"}]}, \"layout\": {\"annotationdefaults\": {\"arrowcolor\": \"#2a3f5f\", \"arrowhead\": 0, \"arrowwidth\": 1}, \"autotypenumbers\": \"strict\", \"coloraxis\": {\"colorbar\": {\"outlinewidth\": 0, \"ticks\": \"\"}}, \"colorscale\": {\"diverging\": [[0, \"#8e0152\"], [0.1, \"#c51b7d\"], [0.2, \"#de77ae\"], [0.3, \"#f1b6da\"], [0.4, \"#fde0ef\"], [0.5, \"#f7f7f7\"], [0.6, \"#e6f5d0\"], [0.7, \"#b8e186\"], [0.8, \"#7fbc41\"], [0.9, \"#4d9221\"], [1, \"#276419\"]], \"sequential\": [[0.0, \"#0d0887\"], [0.1111111111111111, \"#46039f\"], [0.2222222222222222, \"#7201a8\"], [0.3333333333333333, \"#9c179e\"], [0.4444444444444444, \"#bd3786\"], [0.5555555555555556, \"#d8576b\"], [0.6666666666666666, \"#ed7953\"], [0.7777777777777778, \"#fb9f3a\"], [0.8888888888888888, \"#fdca26\"], [1.0, \"#f0f921\"]], \"sequentialminus\": [[0.0, \"#0d0887\"], [0.1111111111111111, \"#46039f\"], [0.2222222222222222, \"#7201a8\"], [0.3333333333333333, \"#9c179e\"], [0.4444444444444444, \"#bd3786\"], [0.5555555555555556, \"#d8576b\"], [0.6666666666666666, \"#ed7953\"], [0.7777777777777778, \"#fb9f3a\"], [0.8888888888888888, \"#fdca26\"], [1.0, \"#f0f921\"]]}, \"colorway\": [\"#636efa\", \"#EF553B\", \"#00cc96\", \"#ab63fa\", \"#FFA15A\", \"#19d3f3\", \"#FF6692\", \"#B6E880\", \"#FF97FF\", \"#FECB52\"], \"font\": {\"color\": \"#2a3f5f\"}, \"geo\": {\"bgcolor\": \"white\", \"lakecolor\": \"white\", \"landcolor\": \"#E5ECF6\", \"showlakes\": true, \"showland\": true, \"subunitcolor\": \"white\"}, \"hoverlabel\": {\"align\": \"left\"}, \"hovermode\": \"closest\", \"mapbox\": {\"style\": \"light\"}, \"paper_bgcolor\": \"white\", \"plot_bgcolor\": \"#E5ECF6\", \"polar\": {\"angularaxis\": {\"gridcolor\": \"white\", \"linecolor\": \"white\", \"ticks\": \"\"}, \"bgcolor\": \"#E5ECF6\", \"radialaxis\": {\"gridcolor\": \"white\", \"linecolor\": \"white\", \"ticks\": \"\"}}, \"scene\": {\"xaxis\": {\"backgroundcolor\": \"#E5ECF6\", \"gridcolor\": \"white\", \"gridwidth\": 2, \"linecolor\": \"white\", \"showbackground\": true, \"ticks\": \"\", \"zerolinecolor\": \"white\"}, \"yaxis\": {\"backgroundcolor\": \"#E5ECF6\", \"gridcolor\": \"white\", \"gridwidth\": 2, \"linecolor\": \"white\", \"showbackground\": true, \"ticks\": \"\", \"zerolinecolor\": \"white\"}, \"zaxis\": {\"backgroundcolor\": \"#E5ECF6\", \"gridcolor\": \"white\", \"gridwidth\": 2, \"linecolor\": \"white\", \"showbackground\": true, \"ticks\": \"\", \"zerolinecolor\": \"white\"}}, \"shapedefaults\": {\"line\": {\"color\": \"#2a3f5f\"}}, \"ternary\": {\"aaxis\": {\"gridcolor\": \"white\", \"linecolor\": \"white\", \"ticks\": \"\"}, \"baxis\": {\"gridcolor\": \"white\", \"linecolor\": \"white\", \"ticks\": \"\"}, \"bgcolor\": \"#E5ECF6\", \"caxis\": {\"gridcolor\": \"white\", \"linecolor\": \"white\", \"ticks\": \"\"}}, \"title\": {\"x\": 0.05}, \"xaxis\": {\"automargin\": true, \"gridcolor\": \"white\", \"linecolor\": \"white\", \"ticks\": \"\", \"title\": {\"standoff\": 15}, \"zerolinecolor\": \"white\", \"zerolinewidth\": 2}, \"yaxis\": {\"automargin\": true, \"gridcolor\": \"white\", \"linecolor\": \"white\", \"ticks\": \"\", \"title\": {\"standoff\": 15}, \"zerolinecolor\": \"white\", \"zerolinewidth\": 2}}}, \"title\": {\"text\": \"NBA LDA\"}, \"xaxis\": {\"anchor\": \"y\", \"domain\": [0.0, 1.0], \"title\": {\"text\": \"LDA Component 1\"}}, \"yaxis\": {\"anchor\": \"x\", \"domain\": [0.0, 1.0], \"title\": {\"text\": \"LDA Component 2\"}}},                        {\"responsive\": true}                    ).then(function(){\n",
       "                            \n",
       "var gd = document.getElementById('23626193-f7c5-488e-9520-9d1ba653d209');\n",
       "var x = new MutationObserver(function (mutations, observer) {{\n",
       "        var display = window.getComputedStyle(gd).display;\n",
       "        if (!display || display === 'none') {{\n",
       "            console.log([gd, 'removed!']);\n",
       "            Plotly.purge(gd);\n",
       "            observer.disconnect();\n",
       "        }}\n",
       "}});\n",
       "\n",
       "// Listen for the removal of the full notebook cells\n",
       "var notebookContainer = gd.closest('#notebook-container');\n",
       "if (notebookContainer) {{\n",
       "    x.observe(notebookContainer, {childList: true});\n",
       "}}\n",
       "\n",
       "// Listen for the clearing of the current output cell\n",
       "var outputEl = gd.closest('.output');\n",
       "if (outputEl) {{\n",
       "    x.observe(outputEl, {childList: true});\n",
       "}}\n",
       "\n",
       "                        })                };                });            </script>        </div>"
      ]
     },
     "metadata": {},
     "output_type": "display_data"
    }
   ],
   "source": [
    "import plotly.graph_objects as go\n",
    "#G1= ['#636EFA', '#EF553B', '#00CC96', '#FB63FA', '#FFA15A', '#19D3F3', '#FF6692', '#B6E880', '#FF97FF', '#FECB52']\n",
    "fig = px.scatter(x_lda,\n",
    "                 x=x_lda[:,4],\n",
    "                 y=x_lda[:,5],\n",
    "                 size = x_lda[:,2].astype('int'),\n",
    "                 #symbol = w,\n",
    "                 #animation_frame=all_yrs,\n",
    "                color=names, \n",
    "                color_discrete_sequence=[\"red\", \"green\", \"blue\", \"goldenrod\", \"pink\",\"black\",\"orchid\",\"gray\",\"yellow\",\"cyan\",\"purple\",\"orange\",\"teal\",\"beige\"],\n",
    "                labels={\n",
    "                     \"x\": \"LDA Component 1\",\n",
    "                     \"y\": \"LDA Component 2\",\n",
    "                     \"color\":\"Full Name\",\n",
    "                     \"size\":\"Age\"\n",
    "                 },\n",
    "                 title=\"NBA LDA\")\n",
    "#fig.update_layout(xaxis_title='PCA'+ \" Component \" + str(option1),\n",
    "                   #yaxis_title='PCA'+ \" Component \" + str(option2))\n",
    "fig.show()"
   ]
  },
  {
   "cell_type": "code",
   "execution_count": 46,
   "metadata": {},
   "outputs": [
    {
     "data": {
      "application/vnd.plotly.v1+json": {
       "config": {
        "plotlyServerURL": "https://plot.ly"
       },
       "data": [
        {
         "alignmentgroup": "True",
         "hovertemplate": "color=Darius Bazley<br>Year=%{x}<br>TSP=%{y}<extra></extra>",
         "legendgroup": "Darius Bazley",
         "marker": {
          "color": "red"
         },
         "name": "Darius Bazley",
         "offsetgroup": "Darius Bazley",
         "orientation": "v",
         "showlegend": true,
         "textposition": "auto",
         "type": "bar",
         "x": [
          2019,
          2020
         ],
         "xaxis": "x",
         "y": [
          49.66887417218543,
          49.06809662640566
         ],
         "yaxis": "y"
        },
        {
         "alignmentgroup": "True",
         "hovertemplate": "color=Tony Bradley<br>Year=%{x}<br>TSP=%{y}<extra></extra>",
         "legendgroup": "Tony Bradley",
         "marker": {
          "color": "green"
         },
         "name": "Tony Bradley",
         "offsetgroup": "Tony Bradley",
         "orientation": "v",
         "showlegend": true,
         "textposition": "auto",
         "type": "bar",
         "x": [
          2017,
          2018,
          2019,
          2020,
          2020,
          2020
         ],
         "xaxis": "x",
         "y": [
          33.67003367003367,
          50.355450236966824,
          68.1036130758937,
          68.26152304609218,
          67.55800792303339,
          67.8119349005425
         ],
         "yaxis": "y"
        },
        {
         "alignmentgroup": "True",
         "hovertemplate": "color=Moses Brown<br>Year=%{x}<br>TSP=%{y}<extra></extra>",
         "legendgroup": "Moses Brown",
         "marker": {
          "color": "blue"
         },
         "name": "Moses Brown",
         "offsetgroup": "Moses Brown",
         "orientation": "v",
         "showlegend": true,
         "textposition": "auto",
         "type": "bar",
         "x": [
          2019,
          2020
         ],
         "xaxis": "x",
         "y": [
          40.680473372781066,
          57.197625525599804
         ],
         "yaxis": "y"
        },
        {
         "alignmentgroup": "True",
         "hovertemplate": "color=Charles Brown Jr.<br>Year=%{x}<br>TSP=%{y}<extra></extra>",
         "legendgroup": "Charles Brown Jr.",
         "marker": {
          "color": "goldenrod"
         },
         "name": "Charles Brown Jr.",
         "offsetgroup": "Charles Brown Jr.",
         "orientation": "v",
         "showlegend": true,
         "textposition": "auto",
         "type": "bar",
         "x": [
          2019,
          2020
         ],
         "xaxis": "x",
         "y": [
          47.16981132075472,
          42.19409282700422
         ],
         "yaxis": "y"
        },
        {
         "alignmentgroup": "True",
         "hovertemplate": "color=Hamidou Diallo<br>Year=%{x}<br>TSP=%{y}<extra></extra>",
         "legendgroup": "Hamidou Diallo",
         "marker": {
          "color": "pink"
         },
         "name": "Hamidou Diallo",
         "offsetgroup": "Hamidou Diallo",
         "orientation": "v",
         "showlegend": true,
         "textposition": "auto",
         "type": "bar",
         "x": [
          2018,
          2019,
          2020,
          2020,
          2020
         ],
         "xaxis": "x",
         "y": [
          49.748638458315874,
          49.11652044977141,
          53.64988171679622,
          54.947762665089684,
          54.121863799283155
         ],
         "yaxis": "y"
        },
        {
         "alignmentgroup": "True",
         "hovertemplate": "color=Luguentz Dort<br>Year=%{x}<br>TSP=%{y}<extra></extra>",
         "legendgroup": "Luguentz Dort",
         "marker": {
          "color": "black"
         },
         "name": "Luguentz Dort",
         "offsetgroup": "Luguentz Dort",
         "orientation": "v",
         "showlegend": true,
         "textposition": "auto",
         "type": "bar",
         "x": [
          2019,
          2020
         ],
         "xaxis": "x",
         "y": [
          50.55527929719874,
          51.254288767647225
         ],
         "yaxis": "y"
        },
        {
         "alignmentgroup": "True",
         "hovertemplate": "color=Shai Gilgeous-Alexander<br>Year=%{x}<br>TSP=%{y}<extra></extra>",
         "legendgroup": "Shai Gilgeous-Alexander",
         "marker": {
          "color": "orchid"
         },
         "name": "Shai Gilgeous-Alexander",
         "offsetgroup": "Shai Gilgeous-Alexander",
         "orientation": "v",
         "showlegend": true,
         "textposition": "auto",
         "type": "bar",
         "x": [
          2018,
          2019,
          2020
         ],
         "xaxis": "x",
         "y": [
          55.43776502868546,
          56.7794007235001,
          62.33477529440039
         ],
         "yaxis": "y"
        },
        {
         "alignmentgroup": "True",
         "hovertemplate": "color=George Hill<br>Year=%{x}<br>TSP=%{y}<extra></extra>",
         "legendgroup": "George Hill",
         "marker": {
          "color": "gray"
         },
         "name": "George Hill",
         "offsetgroup": "George Hill",
         "orientation": "v",
         "showlegend": true,
         "textposition": "auto",
         "type": "bar",
         "x": [
          2008,
          2009,
          2010,
          2011,
          2012,
          2013,
          2014,
          2015,
          2016,
          2017,
          2017,
          2017,
          2018,
          2018,
          2018,
          2019,
          2020,
          2020,
          2020
         ],
         "xaxis": "x",
         "y": [
          50.201723821749496,
          57.225625682670845,
          58.79223197658953,
          55.738388801334935,
          55.767476573513555,
          56.313451776649735,
          57.86727321380787,
          55.52795031055901,
          59.878076967525715,
          59.665548219504274,
          55.11119781506048,
          58.04037591367908,
          60.44905008635578,
          53.427419354838705,
          55.39429124334785,
          65.88336028922082,
          62.97709923664122,
          54.54545454545454,
          59.589041095890416
         ],
         "yaxis": "y"
        },
        {
         "alignmentgroup": "True",
         "hovertemplate": "color=Jaylen Hoard<br>Year=%{x}<br>TSP=%{y}<extra></extra>",
         "legendgroup": "Jaylen Hoard",
         "marker": {
          "color": "yellow"
         },
         "name": "Jaylen Hoard",
         "offsetgroup": "Jaylen Hoard",
         "orientation": "v",
         "showlegend": true,
         "textposition": "auto",
         "type": "bar",
         "x": [
          2019,
          2020
         ],
         "xaxis": "x",
         "y": [
          50.37115588547189,
          54.696341003394956
         ],
         "yaxis": "y"
        },
        {
         "alignmentgroup": "True",
         "hovertemplate": "color=Al Horford<br>Year=%{x}<br>TSP=%{y}<extra></extra>",
         "legendgroup": "Al Horford",
         "marker": {
          "color": "cyan"
         },
         "name": "Al Horford",
         "offsetgroup": "Al Horford",
         "orientation": "v",
         "showlegend": true,
         "textposition": "auto",
         "type": "bar",
         "x": [
          2007,
          2008,
          2009,
          2010,
          2011,
          2012,
          2013,
          2014,
          2015,
          2016,
          2017,
          2018,
          2019,
          2020
         ],
         "xaxis": "x",
         "y": [
          53.92234131988231,
          56.48933060508623,
          59.43259474011183,
          58.681704060893466,
          58.519793459552496,
          55.96950118104766,
          58.81066899868824,
          56.27823648543387,
          56.52811470364604,
          55.32310553231056,
          57.5204765450484,
          60.47332635983263,
          53.61461972588014,
          53.83033975330015
         ],
         "yaxis": "y"
        },
        {
         "alignmentgroup": "True",
         "hovertemplate": "color=Justin Jackson<br>Year=%{x}<br>TSP=%{y}<extra></extra>",
         "legendgroup": "Justin Jackson",
         "marker": {
          "color": "purple"
         },
         "name": "Justin Jackson",
         "offsetgroup": "Justin Jackson",
         "orientation": "v",
         "showlegend": true,
         "textposition": "auto",
         "type": "bar",
         "x": [
          2017,
          2018,
          2018,
          2018,
          2019,
          2020,
          2020,
          2020
         ],
         "xaxis": "x",
         "y": [
          52.088124367583475,
          54.57413249211357,
          58.44347997632669,
          56.083577035554875,
          49.586776859504134,
          51.89094107299912,
          45.54655870445344,
          51.6267700606878
         ],
         "yaxis": "y"
        },
        {
         "alignmentgroup": "True",
         "hovertemplate": "color=Ty Jerome<br>Year=%{x}<br>TSP=%{y}<extra></extra>",
         "legendgroup": "Ty Jerome",
         "marker": {
          "color": "orange"
         },
         "name": "Ty Jerome",
         "offsetgroup": "Ty Jerome",
         "orientation": "v",
         "showlegend": true,
         "textposition": "auto",
         "type": "bar",
         "x": [
          2019,
          2020
         ],
         "xaxis": "x",
         "y": [
          42.48583805398201,
          58.45145052324811
         ],
         "yaxis": "y"
        },
        {
         "alignmentgroup": "True",
         "hovertemplate": "color=Darius Miller<br>Year=%{x}<br>TSP=%{y}<extra></extra>",
         "legendgroup": "Darius Miller",
         "marker": {
          "color": "teal"
         },
         "name": "Darius Miller",
         "offsetgroup": "Darius Miller",
         "orientation": "v",
         "showlegend": true,
         "textposition": "auto",
         "type": "bar",
         "x": [
          2012,
          2013,
          2014,
          2017,
          2018,
          2020
         ],
         "xaxis": "x",
         "y": [
          52.905308464849355,
          54.99340079190497,
          14.285714285714285,
          61.66744114002478,
          55.022901948606474,
          68.506006006006
         ],
         "yaxis": "y"
        },
        {
         "alignmentgroup": "True",
         "hovertemplate": "color=Mike Muscala<br>Year=%{x}<br>TSP=%{y}<extra></extra>",
         "legendgroup": "Mike Muscala",
         "marker": {
          "color": "beige"
         },
         "name": "Mike Muscala",
         "offsetgroup": "Mike Muscala",
         "orientation": "v",
         "showlegend": true,
         "textposition": "auto",
         "type": "bar",
         "x": [
          2013,
          2014,
          2015,
          2016,
          2017,
          2018,
          2018,
          2018,
          2019,
          2020
         ],
         "xaxis": "x",
         "y": [
          48.00404244567964,
          60.802469135802475,
          57.6377394183022,
          59.5629313177785,
          59.68521575100213,
          55.951006797486215,
          57.790106333795656,
          56.350401606425706,
          56.87537749144352,
          59.92787441663132
         ],
         "yaxis": "y"
        },
        {
         "alignmentgroup": "True",
         "hovertemplate": "color=Svi Mykhailiuk<br>Year=%{x}<br>TSP=%{y}<extra></extra>",
         "legendgroup": "Svi Mykhailiuk",
         "marker": {
          "color": "red"
         },
         "name": "Svi Mykhailiuk",
         "offsetgroup": "Svi Mykhailiuk",
         "orientation": "v",
         "showlegend": true,
         "textposition": "auto",
         "type": "bar",
         "x": [
          2018,
          2018,
          2018,
          2019,
          2020,
          2020,
          2020
         ],
         "xaxis": "x",
         "y": [
          45.09943181818181,
          37.5,
          44.69086021505376,
          57.8246902248738,
          52.709568162574094,
          53.11857436600411,
          52.935606060606055
         ],
         "yaxis": "y"
        },
        {
         "alignmentgroup": "True",
         "hovertemplate": "color=Justin Robinson<br>Year=%{x}<br>TSP=%{y}<extra></extra>",
         "legendgroup": "Justin Robinson",
         "marker": {
          "color": "green"
         },
         "name": "Justin Robinson",
         "offsetgroup": "Justin Robinson",
         "orientation": "v",
         "showlegend": true,
         "textposition": "auto",
         "type": "bar",
         "x": [
          2019,
          2020
         ],
         "xaxis": "x",
         "y": [
          54.166666666666664,
          45.258620689655174
         ],
         "yaxis": "y"
        },
        {
         "alignmentgroup": "True",
         "hovertemplate": "color=Isaiah Roby<br>Year=%{x}<br>TSP=%{y}<extra></extra>",
         "legendgroup": "Isaiah Roby",
         "marker": {
          "color": "blue"
         },
         "name": "Isaiah Roby",
         "offsetgroup": "Isaiah Roby",
         "orientation": "v",
         "showlegend": true,
         "textposition": "auto",
         "type": "bar",
         "x": [
          2019,
          2020
         ],
         "xaxis": "x",
         "y": [
          0,
          55.46536796536796
         ],
         "yaxis": "y"
        },
        {
         "alignmentgroup": "True",
         "hovertemplate": "color=Kenrich Williams<br>Year=%{x}<br>TSP=%{y}<extra></extra>",
         "legendgroup": "Kenrich Williams",
         "marker": {
          "color": "goldenrod"
         },
         "name": "Kenrich Williams",
         "offsetgroup": "Kenrich Williams",
         "orientation": "v",
         "showlegend": true,
         "textposition": "auto",
         "type": "bar",
         "x": [
          2018,
          2019,
          2020
         ],
         "xaxis": "x",
         "y": [
          48.545378619153674,
          42.91845493562232,
          59.94711889132021
         ],
         "yaxis": "y"
        }
       ],
       "layout": {
        "barmode": "group",
        "height": 450,
        "legend": {
         "title": {
          "text": "color"
         },
         "tracegroupgap": 0
        },
        "margin": {
         "t": 60
        },
        "template": {
         "data": {
          "bar": [
           {
            "error_x": {
             "color": "#2a3f5f"
            },
            "error_y": {
             "color": "#2a3f5f"
            },
            "marker": {
             "line": {
              "color": "#E5ECF6",
              "width": 0.5
             }
            },
            "type": "bar"
           }
          ],
          "barpolar": [
           {
            "marker": {
             "line": {
              "color": "#E5ECF6",
              "width": 0.5
             }
            },
            "type": "barpolar"
           }
          ],
          "carpet": [
           {
            "aaxis": {
             "endlinecolor": "#2a3f5f",
             "gridcolor": "white",
             "linecolor": "white",
             "minorgridcolor": "white",
             "startlinecolor": "#2a3f5f"
            },
            "baxis": {
             "endlinecolor": "#2a3f5f",
             "gridcolor": "white",
             "linecolor": "white",
             "minorgridcolor": "white",
             "startlinecolor": "#2a3f5f"
            },
            "type": "carpet"
           }
          ],
          "choropleth": [
           {
            "colorbar": {
             "outlinewidth": 0,
             "ticks": ""
            },
            "type": "choropleth"
           }
          ],
          "contour": [
           {
            "colorbar": {
             "outlinewidth": 0,
             "ticks": ""
            },
            "colorscale": [
             [
              0,
              "#0d0887"
             ],
             [
              0.1111111111111111,
              "#46039f"
             ],
             [
              0.2222222222222222,
              "#7201a8"
             ],
             [
              0.3333333333333333,
              "#9c179e"
             ],
             [
              0.4444444444444444,
              "#bd3786"
             ],
             [
              0.5555555555555556,
              "#d8576b"
             ],
             [
              0.6666666666666666,
              "#ed7953"
             ],
             [
              0.7777777777777778,
              "#fb9f3a"
             ],
             [
              0.8888888888888888,
              "#fdca26"
             ],
             [
              1,
              "#f0f921"
             ]
            ],
            "type": "contour"
           }
          ],
          "contourcarpet": [
           {
            "colorbar": {
             "outlinewidth": 0,
             "ticks": ""
            },
            "type": "contourcarpet"
           }
          ],
          "heatmap": [
           {
            "colorbar": {
             "outlinewidth": 0,
             "ticks": ""
            },
            "colorscale": [
             [
              0,
              "#0d0887"
             ],
             [
              0.1111111111111111,
              "#46039f"
             ],
             [
              0.2222222222222222,
              "#7201a8"
             ],
             [
              0.3333333333333333,
              "#9c179e"
             ],
             [
              0.4444444444444444,
              "#bd3786"
             ],
             [
              0.5555555555555556,
              "#d8576b"
             ],
             [
              0.6666666666666666,
              "#ed7953"
             ],
             [
              0.7777777777777778,
              "#fb9f3a"
             ],
             [
              0.8888888888888888,
              "#fdca26"
             ],
             [
              1,
              "#f0f921"
             ]
            ],
            "type": "heatmap"
           }
          ],
          "heatmapgl": [
           {
            "colorbar": {
             "outlinewidth": 0,
             "ticks": ""
            },
            "colorscale": [
             [
              0,
              "#0d0887"
             ],
             [
              0.1111111111111111,
              "#46039f"
             ],
             [
              0.2222222222222222,
              "#7201a8"
             ],
             [
              0.3333333333333333,
              "#9c179e"
             ],
             [
              0.4444444444444444,
              "#bd3786"
             ],
             [
              0.5555555555555556,
              "#d8576b"
             ],
             [
              0.6666666666666666,
              "#ed7953"
             ],
             [
              0.7777777777777778,
              "#fb9f3a"
             ],
             [
              0.8888888888888888,
              "#fdca26"
             ],
             [
              1,
              "#f0f921"
             ]
            ],
            "type": "heatmapgl"
           }
          ],
          "histogram": [
           {
            "marker": {
             "colorbar": {
              "outlinewidth": 0,
              "ticks": ""
             }
            },
            "type": "histogram"
           }
          ],
          "histogram2d": [
           {
            "colorbar": {
             "outlinewidth": 0,
             "ticks": ""
            },
            "colorscale": [
             [
              0,
              "#0d0887"
             ],
             [
              0.1111111111111111,
              "#46039f"
             ],
             [
              0.2222222222222222,
              "#7201a8"
             ],
             [
              0.3333333333333333,
              "#9c179e"
             ],
             [
              0.4444444444444444,
              "#bd3786"
             ],
             [
              0.5555555555555556,
              "#d8576b"
             ],
             [
              0.6666666666666666,
              "#ed7953"
             ],
             [
              0.7777777777777778,
              "#fb9f3a"
             ],
             [
              0.8888888888888888,
              "#fdca26"
             ],
             [
              1,
              "#f0f921"
             ]
            ],
            "type": "histogram2d"
           }
          ],
          "histogram2dcontour": [
           {
            "colorbar": {
             "outlinewidth": 0,
             "ticks": ""
            },
            "colorscale": [
             [
              0,
              "#0d0887"
             ],
             [
              0.1111111111111111,
              "#46039f"
             ],
             [
              0.2222222222222222,
              "#7201a8"
             ],
             [
              0.3333333333333333,
              "#9c179e"
             ],
             [
              0.4444444444444444,
              "#bd3786"
             ],
             [
              0.5555555555555556,
              "#d8576b"
             ],
             [
              0.6666666666666666,
              "#ed7953"
             ],
             [
              0.7777777777777778,
              "#fb9f3a"
             ],
             [
              0.8888888888888888,
              "#fdca26"
             ],
             [
              1,
              "#f0f921"
             ]
            ],
            "type": "histogram2dcontour"
           }
          ],
          "mesh3d": [
           {
            "colorbar": {
             "outlinewidth": 0,
             "ticks": ""
            },
            "type": "mesh3d"
           }
          ],
          "parcoords": [
           {
            "line": {
             "colorbar": {
              "outlinewidth": 0,
              "ticks": ""
             }
            },
            "type": "parcoords"
           }
          ],
          "pie": [
           {
            "automargin": true,
            "type": "pie"
           }
          ],
          "scatter": [
           {
            "marker": {
             "colorbar": {
              "outlinewidth": 0,
              "ticks": ""
             }
            },
            "type": "scatter"
           }
          ],
          "scatter3d": [
           {
            "line": {
             "colorbar": {
              "outlinewidth": 0,
              "ticks": ""
             }
            },
            "marker": {
             "colorbar": {
              "outlinewidth": 0,
              "ticks": ""
             }
            },
            "type": "scatter3d"
           }
          ],
          "scattercarpet": [
           {
            "marker": {
             "colorbar": {
              "outlinewidth": 0,
              "ticks": ""
             }
            },
            "type": "scattercarpet"
           }
          ],
          "scattergeo": [
           {
            "marker": {
             "colorbar": {
              "outlinewidth": 0,
              "ticks": ""
             }
            },
            "type": "scattergeo"
           }
          ],
          "scattergl": [
           {
            "marker": {
             "colorbar": {
              "outlinewidth": 0,
              "ticks": ""
             }
            },
            "type": "scattergl"
           }
          ],
          "scattermapbox": [
           {
            "marker": {
             "colorbar": {
              "outlinewidth": 0,
              "ticks": ""
             }
            },
            "type": "scattermapbox"
           }
          ],
          "scatterpolar": [
           {
            "marker": {
             "colorbar": {
              "outlinewidth": 0,
              "ticks": ""
             }
            },
            "type": "scatterpolar"
           }
          ],
          "scatterpolargl": [
           {
            "marker": {
             "colorbar": {
              "outlinewidth": 0,
              "ticks": ""
             }
            },
            "type": "scatterpolargl"
           }
          ],
          "scatterternary": [
           {
            "marker": {
             "colorbar": {
              "outlinewidth": 0,
              "ticks": ""
             }
            },
            "type": "scatterternary"
           }
          ],
          "surface": [
           {
            "colorbar": {
             "outlinewidth": 0,
             "ticks": ""
            },
            "colorscale": [
             [
              0,
              "#0d0887"
             ],
             [
              0.1111111111111111,
              "#46039f"
             ],
             [
              0.2222222222222222,
              "#7201a8"
             ],
             [
              0.3333333333333333,
              "#9c179e"
             ],
             [
              0.4444444444444444,
              "#bd3786"
             ],
             [
              0.5555555555555556,
              "#d8576b"
             ],
             [
              0.6666666666666666,
              "#ed7953"
             ],
             [
              0.7777777777777778,
              "#fb9f3a"
             ],
             [
              0.8888888888888888,
              "#fdca26"
             ],
             [
              1,
              "#f0f921"
             ]
            ],
            "type": "surface"
           }
          ],
          "table": [
           {
            "cells": {
             "fill": {
              "color": "#EBF0F8"
             },
             "line": {
              "color": "white"
             }
            },
            "header": {
             "fill": {
              "color": "#C8D4E3"
             },
             "line": {
              "color": "white"
             }
            },
            "type": "table"
           }
          ]
         },
         "layout": {
          "annotationdefaults": {
           "arrowcolor": "#2a3f5f",
           "arrowhead": 0,
           "arrowwidth": 1
          },
          "autotypenumbers": "strict",
          "coloraxis": {
           "colorbar": {
            "outlinewidth": 0,
            "ticks": ""
           }
          },
          "colorscale": {
           "diverging": [
            [
             0,
             "#8e0152"
            ],
            [
             0.1,
             "#c51b7d"
            ],
            [
             0.2,
             "#de77ae"
            ],
            [
             0.3,
             "#f1b6da"
            ],
            [
             0.4,
             "#fde0ef"
            ],
            [
             0.5,
             "#f7f7f7"
            ],
            [
             0.6,
             "#e6f5d0"
            ],
            [
             0.7,
             "#b8e186"
            ],
            [
             0.8,
             "#7fbc41"
            ],
            [
             0.9,
             "#4d9221"
            ],
            [
             1,
             "#276419"
            ]
           ],
           "sequential": [
            [
             0,
             "#0d0887"
            ],
            [
             0.1111111111111111,
             "#46039f"
            ],
            [
             0.2222222222222222,
             "#7201a8"
            ],
            [
             0.3333333333333333,
             "#9c179e"
            ],
            [
             0.4444444444444444,
             "#bd3786"
            ],
            [
             0.5555555555555556,
             "#d8576b"
            ],
            [
             0.6666666666666666,
             "#ed7953"
            ],
            [
             0.7777777777777778,
             "#fb9f3a"
            ],
            [
             0.8888888888888888,
             "#fdca26"
            ],
            [
             1,
             "#f0f921"
            ]
           ],
           "sequentialminus": [
            [
             0,
             "#0d0887"
            ],
            [
             0.1111111111111111,
             "#46039f"
            ],
            [
             0.2222222222222222,
             "#7201a8"
            ],
            [
             0.3333333333333333,
             "#9c179e"
            ],
            [
             0.4444444444444444,
             "#bd3786"
            ],
            [
             0.5555555555555556,
             "#d8576b"
            ],
            [
             0.6666666666666666,
             "#ed7953"
            ],
            [
             0.7777777777777778,
             "#fb9f3a"
            ],
            [
             0.8888888888888888,
             "#fdca26"
            ],
            [
             1,
             "#f0f921"
            ]
           ]
          },
          "colorway": [
           "#636efa",
           "#EF553B",
           "#00cc96",
           "#ab63fa",
           "#FFA15A",
           "#19d3f3",
           "#FF6692",
           "#B6E880",
           "#FF97FF",
           "#FECB52"
          ],
          "font": {
           "color": "#2a3f5f"
          },
          "geo": {
           "bgcolor": "white",
           "lakecolor": "white",
           "landcolor": "#E5ECF6",
           "showlakes": true,
           "showland": true,
           "subunitcolor": "white"
          },
          "hoverlabel": {
           "align": "left"
          },
          "hovermode": "closest",
          "mapbox": {
           "style": "light"
          },
          "paper_bgcolor": "white",
          "plot_bgcolor": "#E5ECF6",
          "polar": {
           "angularaxis": {
            "gridcolor": "white",
            "linecolor": "white",
            "ticks": ""
           },
           "bgcolor": "#E5ECF6",
           "radialaxis": {
            "gridcolor": "white",
            "linecolor": "white",
            "ticks": ""
           }
          },
          "scene": {
           "xaxis": {
            "backgroundcolor": "#E5ECF6",
            "gridcolor": "white",
            "gridwidth": 2,
            "linecolor": "white",
            "showbackground": true,
            "ticks": "",
            "zerolinecolor": "white"
           },
           "yaxis": {
            "backgroundcolor": "#E5ECF6",
            "gridcolor": "white",
            "gridwidth": 2,
            "linecolor": "white",
            "showbackground": true,
            "ticks": "",
            "zerolinecolor": "white"
           },
           "zaxis": {
            "backgroundcolor": "#E5ECF6",
            "gridcolor": "white",
            "gridwidth": 2,
            "linecolor": "white",
            "showbackground": true,
            "ticks": "",
            "zerolinecolor": "white"
           }
          },
          "shapedefaults": {
           "line": {
            "color": "#2a3f5f"
           }
          },
          "ternary": {
           "aaxis": {
            "gridcolor": "white",
            "linecolor": "white",
            "ticks": ""
           },
           "baxis": {
            "gridcolor": "white",
            "linecolor": "white",
            "ticks": ""
           },
           "bgcolor": "#E5ECF6",
           "caxis": {
            "gridcolor": "white",
            "linecolor": "white",
            "ticks": ""
           }
          },
          "title": {
           "x": 0.05
          },
          "xaxis": {
           "automargin": true,
           "gridcolor": "white",
           "linecolor": "white",
           "ticks": "",
           "title": {
            "standoff": 15
           },
           "zerolinecolor": "white",
           "zerolinewidth": 2
          },
          "yaxis": {
           "automargin": true,
           "gridcolor": "white",
           "linecolor": "white",
           "ticks": "",
           "title": {
            "standoff": 15
           },
           "zerolinecolor": "white",
           "zerolinewidth": 2
          }
         }
        },
        "width": 1500,
        "xaxis": {
         "anchor": "y",
         "domain": [
          0,
          1
         ],
         "title": {
          "text": "Year"
         }
        },
        "yaxis": {
         "anchor": "x",
         "domain": [
          0,
          1
         ],
         "title": {
          "text": "TSP"
         }
        }
       }
      },
      "text/html": [
       "<div>                            <div id=\"aef94fbe-f8d9-4d87-8187-6cbdd2205eb4\" class=\"plotly-graph-div\" style=\"height:450px; width:1500px;\"></div>            <script type=\"text/javascript\">                require([\"plotly\"], function(Plotly) {                    window.PLOTLYENV=window.PLOTLYENV || {};                                    if (document.getElementById(\"aef94fbe-f8d9-4d87-8187-6cbdd2205eb4\")) {                    Plotly.newPlot(                        \"aef94fbe-f8d9-4d87-8187-6cbdd2205eb4\",                        [{\"alignmentgroup\": \"True\", \"hovertemplate\": \"color=Darius Bazley<br>Year=%{x}<br>TSP=%{y}<extra></extra>\", \"legendgroup\": \"Darius Bazley\", \"marker\": {\"color\": \"red\"}, \"name\": \"Darius Bazley\", \"offsetgroup\": \"Darius Bazley\", \"orientation\": \"v\", \"showlegend\": true, \"textposition\": \"auto\", \"type\": \"bar\", \"x\": [2019, 2020], \"xaxis\": \"x\", \"y\": [49.66887417218543, 49.06809662640566], \"yaxis\": \"y\"}, {\"alignmentgroup\": \"True\", \"hovertemplate\": \"color=Tony Bradley<br>Year=%{x}<br>TSP=%{y}<extra></extra>\", \"legendgroup\": \"Tony Bradley\", \"marker\": {\"color\": \"green\"}, \"name\": \"Tony Bradley\", \"offsetgroup\": \"Tony Bradley\", \"orientation\": \"v\", \"showlegend\": true, \"textposition\": \"auto\", \"type\": \"bar\", \"x\": [2017, 2018, 2019, 2020, 2020, 2020], \"xaxis\": \"x\", \"y\": [33.67003367003367, 50.355450236966824, 68.1036130758937, 68.26152304609218, 67.55800792303339, 67.8119349005425], \"yaxis\": \"y\"}, {\"alignmentgroup\": \"True\", \"hovertemplate\": \"color=Moses Brown<br>Year=%{x}<br>TSP=%{y}<extra></extra>\", \"legendgroup\": \"Moses Brown\", \"marker\": {\"color\": \"blue\"}, \"name\": \"Moses Brown\", \"offsetgroup\": \"Moses Brown\", \"orientation\": \"v\", \"showlegend\": true, \"textposition\": \"auto\", \"type\": \"bar\", \"x\": [2019, 2020], \"xaxis\": \"x\", \"y\": [40.680473372781066, 57.197625525599804], \"yaxis\": \"y\"}, {\"alignmentgroup\": \"True\", \"hovertemplate\": \"color=Charles Brown Jr.<br>Year=%{x}<br>TSP=%{y}<extra></extra>\", \"legendgroup\": \"Charles Brown Jr.\", \"marker\": {\"color\": \"goldenrod\"}, \"name\": \"Charles Brown Jr.\", \"offsetgroup\": \"Charles Brown Jr.\", \"orientation\": \"v\", \"showlegend\": true, \"textposition\": \"auto\", \"type\": \"bar\", \"x\": [2019, 2020], \"xaxis\": \"x\", \"y\": [47.16981132075472, 42.19409282700422], \"yaxis\": \"y\"}, {\"alignmentgroup\": \"True\", \"hovertemplate\": \"color=Hamidou Diallo<br>Year=%{x}<br>TSP=%{y}<extra></extra>\", \"legendgroup\": \"Hamidou Diallo\", \"marker\": {\"color\": \"pink\"}, \"name\": \"Hamidou Diallo\", \"offsetgroup\": \"Hamidou Diallo\", \"orientation\": \"v\", \"showlegend\": true, \"textposition\": \"auto\", \"type\": \"bar\", \"x\": [2018, 2019, 2020, 2020, 2020], \"xaxis\": \"x\", \"y\": [49.748638458315874, 49.11652044977141, 53.64988171679622, 54.947762665089684, 54.121863799283155], \"yaxis\": \"y\"}, {\"alignmentgroup\": \"True\", \"hovertemplate\": \"color=Luguentz Dort<br>Year=%{x}<br>TSP=%{y}<extra></extra>\", \"legendgroup\": \"Luguentz Dort\", \"marker\": {\"color\": \"black\"}, \"name\": \"Luguentz Dort\", \"offsetgroup\": \"Luguentz Dort\", \"orientation\": \"v\", \"showlegend\": true, \"textposition\": \"auto\", \"type\": \"bar\", \"x\": [2019, 2020], \"xaxis\": \"x\", \"y\": [50.55527929719874, 51.254288767647225], \"yaxis\": \"y\"}, {\"alignmentgroup\": \"True\", \"hovertemplate\": \"color=Shai Gilgeous-Alexander<br>Year=%{x}<br>TSP=%{y}<extra></extra>\", \"legendgroup\": \"Shai Gilgeous-Alexander\", \"marker\": {\"color\": \"orchid\"}, \"name\": \"Shai Gilgeous-Alexander\", \"offsetgroup\": \"Shai Gilgeous-Alexander\", \"orientation\": \"v\", \"showlegend\": true, \"textposition\": \"auto\", \"type\": \"bar\", \"x\": [2018, 2019, 2020], \"xaxis\": \"x\", \"y\": [55.43776502868546, 56.7794007235001, 62.33477529440039], \"yaxis\": \"y\"}, {\"alignmentgroup\": \"True\", \"hovertemplate\": \"color=George Hill<br>Year=%{x}<br>TSP=%{y}<extra></extra>\", \"legendgroup\": \"George Hill\", \"marker\": {\"color\": \"gray\"}, \"name\": \"George Hill\", \"offsetgroup\": \"George Hill\", \"orientation\": \"v\", \"showlegend\": true, \"textposition\": \"auto\", \"type\": \"bar\", \"x\": [2008, 2009, 2010, 2011, 2012, 2013, 2014, 2015, 2016, 2017, 2017, 2017, 2018, 2018, 2018, 2019, 2020, 2020, 2020], \"xaxis\": \"x\", \"y\": [50.201723821749496, 57.225625682670845, 58.79223197658953, 55.738388801334935, 55.767476573513555, 56.313451776649735, 57.86727321380787, 55.52795031055901, 59.878076967525715, 59.665548219504274, 55.11119781506048, 58.04037591367908, 60.44905008635578, 53.427419354838705, 55.39429124334785, 65.88336028922082, 62.97709923664122, 54.54545454545454, 59.589041095890416], \"yaxis\": \"y\"}, {\"alignmentgroup\": \"True\", \"hovertemplate\": \"color=Jaylen Hoard<br>Year=%{x}<br>TSP=%{y}<extra></extra>\", \"legendgroup\": \"Jaylen Hoard\", \"marker\": {\"color\": \"yellow\"}, \"name\": \"Jaylen Hoard\", \"offsetgroup\": \"Jaylen Hoard\", \"orientation\": \"v\", \"showlegend\": true, \"textposition\": \"auto\", \"type\": \"bar\", \"x\": [2019, 2020], \"xaxis\": \"x\", \"y\": [50.37115588547189, 54.696341003394956], \"yaxis\": \"y\"}, {\"alignmentgroup\": \"True\", \"hovertemplate\": \"color=Al Horford<br>Year=%{x}<br>TSP=%{y}<extra></extra>\", \"legendgroup\": \"Al Horford\", \"marker\": {\"color\": \"cyan\"}, \"name\": \"Al Horford\", \"offsetgroup\": \"Al Horford\", \"orientation\": \"v\", \"showlegend\": true, \"textposition\": \"auto\", \"type\": \"bar\", \"x\": [2007, 2008, 2009, 2010, 2011, 2012, 2013, 2014, 2015, 2016, 2017, 2018, 2019, 2020], \"xaxis\": \"x\", \"y\": [53.92234131988231, 56.48933060508623, 59.43259474011183, 58.681704060893466, 58.519793459552496, 55.96950118104766, 58.81066899868824, 56.27823648543387, 56.52811470364604, 55.32310553231056, 57.5204765450484, 60.47332635983263, 53.61461972588014, 53.83033975330015], \"yaxis\": \"y\"}, {\"alignmentgroup\": \"True\", \"hovertemplate\": \"color=Justin Jackson<br>Year=%{x}<br>TSP=%{y}<extra></extra>\", \"legendgroup\": \"Justin Jackson\", \"marker\": {\"color\": \"purple\"}, \"name\": \"Justin Jackson\", \"offsetgroup\": \"Justin Jackson\", \"orientation\": \"v\", \"showlegend\": true, \"textposition\": \"auto\", \"type\": \"bar\", \"x\": [2017, 2018, 2018, 2018, 2019, 2020, 2020, 2020], \"xaxis\": \"x\", \"y\": [52.088124367583475, 54.57413249211357, 58.44347997632669, 56.083577035554875, 49.586776859504134, 51.89094107299912, 45.54655870445344, 51.6267700606878], \"yaxis\": \"y\"}, {\"alignmentgroup\": \"True\", \"hovertemplate\": \"color=Ty Jerome<br>Year=%{x}<br>TSP=%{y}<extra></extra>\", \"legendgroup\": \"Ty Jerome\", \"marker\": {\"color\": \"orange\"}, \"name\": \"Ty Jerome\", \"offsetgroup\": \"Ty Jerome\", \"orientation\": \"v\", \"showlegend\": true, \"textposition\": \"auto\", \"type\": \"bar\", \"x\": [2019, 2020], \"xaxis\": \"x\", \"y\": [42.48583805398201, 58.45145052324811], \"yaxis\": \"y\"}, {\"alignmentgroup\": \"True\", \"hovertemplate\": \"color=Darius Miller<br>Year=%{x}<br>TSP=%{y}<extra></extra>\", \"legendgroup\": \"Darius Miller\", \"marker\": {\"color\": \"teal\"}, \"name\": \"Darius Miller\", \"offsetgroup\": \"Darius Miller\", \"orientation\": \"v\", \"showlegend\": true, \"textposition\": \"auto\", \"type\": \"bar\", \"x\": [2012, 2013, 2014, 2017, 2018, 2020], \"xaxis\": \"x\", \"y\": [52.905308464849355, 54.99340079190497, 14.285714285714285, 61.66744114002478, 55.022901948606474, 68.506006006006], \"yaxis\": \"y\"}, {\"alignmentgroup\": \"True\", \"hovertemplate\": \"color=Mike Muscala<br>Year=%{x}<br>TSP=%{y}<extra></extra>\", \"legendgroup\": \"Mike Muscala\", \"marker\": {\"color\": \"beige\"}, \"name\": \"Mike Muscala\", \"offsetgroup\": \"Mike Muscala\", \"orientation\": \"v\", \"showlegend\": true, \"textposition\": \"auto\", \"type\": \"bar\", \"x\": [2013, 2014, 2015, 2016, 2017, 2018, 2018, 2018, 2019, 2020], \"xaxis\": \"x\", \"y\": [48.00404244567964, 60.802469135802475, 57.6377394183022, 59.5629313177785, 59.68521575100213, 55.951006797486215, 57.790106333795656, 56.350401606425706, 56.87537749144352, 59.92787441663132], \"yaxis\": \"y\"}, {\"alignmentgroup\": \"True\", \"hovertemplate\": \"color=Svi Mykhailiuk<br>Year=%{x}<br>TSP=%{y}<extra></extra>\", \"legendgroup\": \"Svi Mykhailiuk\", \"marker\": {\"color\": \"red\"}, \"name\": \"Svi Mykhailiuk\", \"offsetgroup\": \"Svi Mykhailiuk\", \"orientation\": \"v\", \"showlegend\": true, \"textposition\": \"auto\", \"type\": \"bar\", \"x\": [2018, 2018, 2018, 2019, 2020, 2020, 2020], \"xaxis\": \"x\", \"y\": [45.09943181818181, 37.5, 44.69086021505376, 57.8246902248738, 52.709568162574094, 53.11857436600411, 52.935606060606055], \"yaxis\": \"y\"}, {\"alignmentgroup\": \"True\", \"hovertemplate\": \"color=Justin Robinson<br>Year=%{x}<br>TSP=%{y}<extra></extra>\", \"legendgroup\": \"Justin Robinson\", \"marker\": {\"color\": \"green\"}, \"name\": \"Justin Robinson\", \"offsetgroup\": \"Justin Robinson\", \"orientation\": \"v\", \"showlegend\": true, \"textposition\": \"auto\", \"type\": \"bar\", \"x\": [2019, 2020], \"xaxis\": \"x\", \"y\": [54.166666666666664, 45.258620689655174], \"yaxis\": \"y\"}, {\"alignmentgroup\": \"True\", \"hovertemplate\": \"color=Isaiah Roby<br>Year=%{x}<br>TSP=%{y}<extra></extra>\", \"legendgroup\": \"Isaiah Roby\", \"marker\": {\"color\": \"blue\"}, \"name\": \"Isaiah Roby\", \"offsetgroup\": \"Isaiah Roby\", \"orientation\": \"v\", \"showlegend\": true, \"textposition\": \"auto\", \"type\": \"bar\", \"x\": [2019, 2020], \"xaxis\": \"x\", \"y\": [0.0, 55.46536796536796], \"yaxis\": \"y\"}, {\"alignmentgroup\": \"True\", \"hovertemplate\": \"color=Kenrich Williams<br>Year=%{x}<br>TSP=%{y}<extra></extra>\", \"legendgroup\": \"Kenrich Williams\", \"marker\": {\"color\": \"goldenrod\"}, \"name\": \"Kenrich Williams\", \"offsetgroup\": \"Kenrich Williams\", \"orientation\": \"v\", \"showlegend\": true, \"textposition\": \"auto\", \"type\": \"bar\", \"x\": [2018, 2019, 2020], \"xaxis\": \"x\", \"y\": [48.545378619153674, 42.91845493562232, 59.94711889132021], \"yaxis\": \"y\"}],                        {\"barmode\": \"group\", \"height\": 450, \"legend\": {\"title\": {\"text\": \"color\"}, \"tracegroupgap\": 0}, \"margin\": {\"t\": 60}, \"template\": {\"data\": {\"bar\": [{\"error_x\": {\"color\": \"#2a3f5f\"}, \"error_y\": {\"color\": \"#2a3f5f\"}, \"marker\": {\"line\": {\"color\": \"#E5ECF6\", \"width\": 0.5}}, \"type\": \"bar\"}], \"barpolar\": [{\"marker\": {\"line\": {\"color\": \"#E5ECF6\", \"width\": 0.5}}, \"type\": \"barpolar\"}], \"carpet\": [{\"aaxis\": {\"endlinecolor\": \"#2a3f5f\", \"gridcolor\": \"white\", \"linecolor\": \"white\", \"minorgridcolor\": \"white\", \"startlinecolor\": \"#2a3f5f\"}, \"baxis\": {\"endlinecolor\": \"#2a3f5f\", \"gridcolor\": \"white\", \"linecolor\": \"white\", \"minorgridcolor\": \"white\", \"startlinecolor\": \"#2a3f5f\"}, \"type\": \"carpet\"}], \"choropleth\": [{\"colorbar\": {\"outlinewidth\": 0, \"ticks\": \"\"}, \"type\": \"choropleth\"}], \"contour\": [{\"colorbar\": {\"outlinewidth\": 0, \"ticks\": \"\"}, \"colorscale\": [[0.0, \"#0d0887\"], [0.1111111111111111, \"#46039f\"], [0.2222222222222222, \"#7201a8\"], [0.3333333333333333, \"#9c179e\"], [0.4444444444444444, \"#bd3786\"], [0.5555555555555556, \"#d8576b\"], [0.6666666666666666, \"#ed7953\"], [0.7777777777777778, \"#fb9f3a\"], [0.8888888888888888, \"#fdca26\"], [1.0, \"#f0f921\"]], \"type\": \"contour\"}], \"contourcarpet\": [{\"colorbar\": {\"outlinewidth\": 0, \"ticks\": \"\"}, \"type\": \"contourcarpet\"}], \"heatmap\": [{\"colorbar\": {\"outlinewidth\": 0, \"ticks\": \"\"}, \"colorscale\": [[0.0, \"#0d0887\"], [0.1111111111111111, \"#46039f\"], [0.2222222222222222, \"#7201a8\"], [0.3333333333333333, \"#9c179e\"], [0.4444444444444444, \"#bd3786\"], [0.5555555555555556, \"#d8576b\"], [0.6666666666666666, \"#ed7953\"], [0.7777777777777778, \"#fb9f3a\"], [0.8888888888888888, \"#fdca26\"], [1.0, \"#f0f921\"]], \"type\": \"heatmap\"}], \"heatmapgl\": [{\"colorbar\": {\"outlinewidth\": 0, \"ticks\": \"\"}, \"colorscale\": [[0.0, \"#0d0887\"], [0.1111111111111111, \"#46039f\"], [0.2222222222222222, \"#7201a8\"], [0.3333333333333333, \"#9c179e\"], [0.4444444444444444, \"#bd3786\"], [0.5555555555555556, \"#d8576b\"], [0.6666666666666666, \"#ed7953\"], [0.7777777777777778, \"#fb9f3a\"], [0.8888888888888888, \"#fdca26\"], [1.0, \"#f0f921\"]], \"type\": \"heatmapgl\"}], \"histogram\": [{\"marker\": {\"colorbar\": {\"outlinewidth\": 0, \"ticks\": \"\"}}, \"type\": \"histogram\"}], \"histogram2d\": [{\"colorbar\": {\"outlinewidth\": 0, \"ticks\": \"\"}, \"colorscale\": [[0.0, \"#0d0887\"], [0.1111111111111111, \"#46039f\"], [0.2222222222222222, \"#7201a8\"], [0.3333333333333333, \"#9c179e\"], [0.4444444444444444, \"#bd3786\"], [0.5555555555555556, \"#d8576b\"], [0.6666666666666666, \"#ed7953\"], [0.7777777777777778, \"#fb9f3a\"], [0.8888888888888888, \"#fdca26\"], [1.0, \"#f0f921\"]], \"type\": \"histogram2d\"}], \"histogram2dcontour\": [{\"colorbar\": {\"outlinewidth\": 0, \"ticks\": \"\"}, \"colorscale\": [[0.0, \"#0d0887\"], [0.1111111111111111, \"#46039f\"], [0.2222222222222222, \"#7201a8\"], [0.3333333333333333, \"#9c179e\"], [0.4444444444444444, \"#bd3786\"], [0.5555555555555556, \"#d8576b\"], [0.6666666666666666, \"#ed7953\"], [0.7777777777777778, \"#fb9f3a\"], [0.8888888888888888, \"#fdca26\"], [1.0, \"#f0f921\"]], \"type\": \"histogram2dcontour\"}], \"mesh3d\": [{\"colorbar\": {\"outlinewidth\": 0, \"ticks\": \"\"}, \"type\": \"mesh3d\"}], \"parcoords\": [{\"line\": {\"colorbar\": {\"outlinewidth\": 0, \"ticks\": \"\"}}, \"type\": \"parcoords\"}], \"pie\": [{\"automargin\": true, \"type\": \"pie\"}], \"scatter\": [{\"marker\": {\"colorbar\": {\"outlinewidth\": 0, \"ticks\": \"\"}}, \"type\": \"scatter\"}], \"scatter3d\": [{\"line\": {\"colorbar\": {\"outlinewidth\": 0, \"ticks\": \"\"}}, \"marker\": {\"colorbar\": {\"outlinewidth\": 0, \"ticks\": \"\"}}, \"type\": \"scatter3d\"}], \"scattercarpet\": [{\"marker\": {\"colorbar\": {\"outlinewidth\": 0, \"ticks\": \"\"}}, \"type\": \"scattercarpet\"}], \"scattergeo\": [{\"marker\": {\"colorbar\": {\"outlinewidth\": 0, \"ticks\": \"\"}}, \"type\": \"scattergeo\"}], \"scattergl\": [{\"marker\": {\"colorbar\": {\"outlinewidth\": 0, \"ticks\": \"\"}}, \"type\": \"scattergl\"}], \"scattermapbox\": [{\"marker\": {\"colorbar\": {\"outlinewidth\": 0, \"ticks\": \"\"}}, \"type\": \"scattermapbox\"}], \"scatterpolar\": [{\"marker\": {\"colorbar\": {\"outlinewidth\": 0, \"ticks\": \"\"}}, \"type\": \"scatterpolar\"}], \"scatterpolargl\": [{\"marker\": {\"colorbar\": {\"outlinewidth\": 0, \"ticks\": \"\"}}, \"type\": \"scatterpolargl\"}], \"scatterternary\": [{\"marker\": {\"colorbar\": {\"outlinewidth\": 0, \"ticks\": \"\"}}, \"type\": \"scatterternary\"}], \"surface\": [{\"colorbar\": {\"outlinewidth\": 0, \"ticks\": \"\"}, \"colorscale\": [[0.0, \"#0d0887\"], [0.1111111111111111, \"#46039f\"], [0.2222222222222222, \"#7201a8\"], [0.3333333333333333, \"#9c179e\"], [0.4444444444444444, \"#bd3786\"], [0.5555555555555556, \"#d8576b\"], [0.6666666666666666, \"#ed7953\"], [0.7777777777777778, \"#fb9f3a\"], [0.8888888888888888, \"#fdca26\"], [1.0, \"#f0f921\"]], \"type\": \"surface\"}], \"table\": [{\"cells\": {\"fill\": {\"color\": \"#EBF0F8\"}, \"line\": {\"color\": \"white\"}}, \"header\": {\"fill\": {\"color\": \"#C8D4E3\"}, \"line\": {\"color\": \"white\"}}, \"type\": \"table\"}]}, \"layout\": {\"annotationdefaults\": {\"arrowcolor\": \"#2a3f5f\", \"arrowhead\": 0, \"arrowwidth\": 1}, \"autotypenumbers\": \"strict\", \"coloraxis\": {\"colorbar\": {\"outlinewidth\": 0, \"ticks\": \"\"}}, \"colorscale\": {\"diverging\": [[0, \"#8e0152\"], [0.1, \"#c51b7d\"], [0.2, \"#de77ae\"], [0.3, \"#f1b6da\"], [0.4, \"#fde0ef\"], [0.5, \"#f7f7f7\"], [0.6, \"#e6f5d0\"], [0.7, \"#b8e186\"], [0.8, \"#7fbc41\"], [0.9, \"#4d9221\"], [1, \"#276419\"]], \"sequential\": [[0.0, \"#0d0887\"], [0.1111111111111111, \"#46039f\"], [0.2222222222222222, \"#7201a8\"], [0.3333333333333333, \"#9c179e\"], [0.4444444444444444, \"#bd3786\"], [0.5555555555555556, \"#d8576b\"], [0.6666666666666666, \"#ed7953\"], [0.7777777777777778, \"#fb9f3a\"], [0.8888888888888888, \"#fdca26\"], [1.0, \"#f0f921\"]], \"sequentialminus\": [[0.0, \"#0d0887\"], [0.1111111111111111, \"#46039f\"], [0.2222222222222222, \"#7201a8\"], [0.3333333333333333, \"#9c179e\"], [0.4444444444444444, \"#bd3786\"], [0.5555555555555556, \"#d8576b\"], [0.6666666666666666, \"#ed7953\"], [0.7777777777777778, \"#fb9f3a\"], [0.8888888888888888, \"#fdca26\"], [1.0, \"#f0f921\"]]}, \"colorway\": [\"#636efa\", \"#EF553B\", \"#00cc96\", \"#ab63fa\", \"#FFA15A\", \"#19d3f3\", \"#FF6692\", \"#B6E880\", \"#FF97FF\", \"#FECB52\"], \"font\": {\"color\": \"#2a3f5f\"}, \"geo\": {\"bgcolor\": \"white\", \"lakecolor\": \"white\", \"landcolor\": \"#E5ECF6\", \"showlakes\": true, \"showland\": true, \"subunitcolor\": \"white\"}, \"hoverlabel\": {\"align\": \"left\"}, \"hovermode\": \"closest\", \"mapbox\": {\"style\": \"light\"}, \"paper_bgcolor\": \"white\", \"plot_bgcolor\": \"#E5ECF6\", \"polar\": {\"angularaxis\": {\"gridcolor\": \"white\", \"linecolor\": \"white\", \"ticks\": \"\"}, \"bgcolor\": \"#E5ECF6\", \"radialaxis\": {\"gridcolor\": \"white\", \"linecolor\": \"white\", \"ticks\": \"\"}}, \"scene\": {\"xaxis\": {\"backgroundcolor\": \"#E5ECF6\", \"gridcolor\": \"white\", \"gridwidth\": 2, \"linecolor\": \"white\", \"showbackground\": true, \"ticks\": \"\", \"zerolinecolor\": \"white\"}, \"yaxis\": {\"backgroundcolor\": \"#E5ECF6\", \"gridcolor\": \"white\", \"gridwidth\": 2, \"linecolor\": \"white\", \"showbackground\": true, \"ticks\": \"\", \"zerolinecolor\": \"white\"}, \"zaxis\": {\"backgroundcolor\": \"#E5ECF6\", \"gridcolor\": \"white\", \"gridwidth\": 2, \"linecolor\": \"white\", \"showbackground\": true, \"ticks\": \"\", \"zerolinecolor\": \"white\"}}, \"shapedefaults\": {\"line\": {\"color\": \"#2a3f5f\"}}, \"ternary\": {\"aaxis\": {\"gridcolor\": \"white\", \"linecolor\": \"white\", \"ticks\": \"\"}, \"baxis\": {\"gridcolor\": \"white\", \"linecolor\": \"white\", \"ticks\": \"\"}, \"bgcolor\": \"#E5ECF6\", \"caxis\": {\"gridcolor\": \"white\", \"linecolor\": \"white\", \"ticks\": \"\"}}, \"title\": {\"x\": 0.05}, \"xaxis\": {\"automargin\": true, \"gridcolor\": \"white\", \"linecolor\": \"white\", \"ticks\": \"\", \"title\": {\"standoff\": 15}, \"zerolinecolor\": \"white\", \"zerolinewidth\": 2}, \"yaxis\": {\"automargin\": true, \"gridcolor\": \"white\", \"linecolor\": \"white\", \"ticks\": \"\", \"title\": {\"standoff\": 15}, \"zerolinecolor\": \"white\", \"zerolinewidth\": 2}}}, \"width\": 1500, \"xaxis\": {\"anchor\": \"y\", \"domain\": [0.0, 1.0], \"title\": {\"text\": \"Year\"}}, \"yaxis\": {\"anchor\": \"x\", \"domain\": [0.0, 1.0], \"title\": {\"text\": \"TSP\"}}},                        {\"responsive\": true}                    ).then(function(){\n",
       "                            \n",
       "var gd = document.getElementById('aef94fbe-f8d9-4d87-8187-6cbdd2205eb4');\n",
       "var x = new MutationObserver(function (mutations, observer) {{\n",
       "        var display = window.getComputedStyle(gd).display;\n",
       "        if (!display || display === 'none') {{\n",
       "            console.log([gd, 'removed!']);\n",
       "            Plotly.purge(gd);\n",
       "            observer.disconnect();\n",
       "        }}\n",
       "}});\n",
       "\n",
       "// Listen for the removal of the full notebook cells\n",
       "var notebookContainer = gd.closest('#notebook-container');\n",
       "if (notebookContainer) {{\n",
       "    x.observe(notebookContainer, {childList: true});\n",
       "}}\n",
       "\n",
       "// Listen for the clearing of the current output cell\n",
       "var outputEl = gd.closest('.output');\n",
       "if (outputEl) {{\n",
       "    x.observe(outputEl, {childList: true});\n",
       "}}\n",
       "\n",
       "                        })                };                });            </script>        </div>"
      ]
     },
     "metadata": {},
     "output_type": "display_data"
    }
   ],
   "source": [
    "fig3 = px.bar(x_lda, \n",
    "              x=x_lda[:,0], \n",
    "              y=x_lda[:,3],\n",
    "              color=names,\n",
    "              color_discrete_sequence=[\"red\", \"green\", \"blue\", \"goldenrod\", \"pink\",\"black\",\"orchid\",\"gray\",\"yellow\",\"cyan\",\"purple\",\"orange\",\"teal\",\"beige\"],\n",
    "              barmode='group',\n",
    "              labels={\n",
    "                     \"x\": \"Year\",\n",
    "                     \"y\": \"TSP\"      \n",
    "                 },\n",
    "             width=1500, height=450\n",
    "             )\n",
    "fig3.show()"
   ]
  },
  {
   "cell_type": "code",
   "execution_count": 47,
   "metadata": {},
   "outputs": [],
   "source": [
    "#from sklearn.model_selection import train_test_split\n",
    "#x_train, x_test, y_train, y_test = train_test_split(x, y)\n",
    "#lda = LDA(n_components=2)\n",
    "#lda.fit(x_train, y_train)\n",
    "#from sklearn.metrics import accuracy_score\n",
    "#y_pred = lda.predict(x_test)\n",
    "#print(accuracy_score(y_test, y_pred))"
   ]
  },
  {
   "cell_type": "code",
   "execution_count": 48,
   "metadata": {},
   "outputs": [],
   "source": [
    "dash_mark = { \n",
    "        2000:'2000-01',\n",
    "        2001:'2001-02',\n",
    "        2002:'2002-03',\n",
    "        2003:'2003-04',\n",
    "        2004:'2004-05',\n",
    "        2005:'2005-06',\n",
    "        2006:'2006-07',\n",
    "        2007:'2007-08',\n",
    "        2008:'2008-09',\n",
    "        2009:'2009-10',\n",
    "        2010:'2010-11',\n",
    "        2011:'2011-12',\n",
    "        2012:'2012-13',\n",
    "        2013:'2013-14',\n",
    "        2014:'2014-15',\n",
    "        2015:'2015-16',\n",
    "        2016:'2016-17',\n",
    "        2017:'2017-18',\n",
    "        2018:'2018-19',\n",
    "        2019:'2019-20',\n",
    "        2020:'2020-21',\n",
    "    }"
   ]
  },
  {
   "cell_type": "code",
   "execution_count": 49,
   "metadata": {},
   "outputs": [],
   "source": [
    "team_labels=[\n",
    "            {'label': 'Atlanta Hawks', 'value': 'ATL'},\n",
    "            {'label': 'Boston Celtics', 'value':'BOS'},\n",
    "            {'label': 'Brooklyn Nets', 'value': 'BKN'},\n",
    "            {'label': 'Charlotte Hornets', 'value':'CHA'},\n",
    "            {'label': 'Chicago Bulls', 'value': 'CHI'},\n",
    "            {'label': 'Cleveland Cavaliers', 'value': 'CLE'},\n",
    "            {'label': 'Dallas Mavericks', 'value': 'DAL'},\n",
    "            {'label': 'Denver Nuggets', 'value': 'DEN'},\n",
    "            {'label': 'Detroit Pistons', 'value': 'DET'},\n",
    "            {'label': 'Golden State Warriors', 'value': 'GSW'},\n",
    "            {'label': 'Houston Rockets', 'value': 'HOU'},\n",
    "            {'label': 'Indiana Pacers', 'value': 'IND'},\n",
    "            {'label': 'Los Angeles Clippers', 'value': 'LAC'},\n",
    "            {'label': 'Los Angeles Lakers', 'value': 'LAL'},\n",
    "            {'label': 'Memphis Grizzlies', 'value': 'MEM'},\n",
    "            {'label': 'Miami Heat', 'value': 'MIA'},\n",
    "            {'label': 'Milwaukee Bucks', 'value': 'MIL'},\n",
    "            {'label': 'Minnesota Timberwolves', 'value': 'MIN'},\n",
    "            {'label': 'New Orleans Pelicans', 'value': 'NOP'},\n",
    "            {'label': 'New York Knicks', 'value': 'NYK'},\n",
    "            {'label': 'Oklahoma City Thunder', 'value': 'OKC'},\n",
    "            {'label': 'Orlando Magic', 'value': 'ORL'},\n",
    "            {'label': 'Philadelphia 76ers', 'value': 'PHI'},\n",
    "            {'label': 'Phoenix Suns', 'value': 'PHX'},\n",
    "            {'label': 'Portland Trail Blazers', 'value': 'POR'},\n",
    "            {'label': 'Sacramento Kings', 'value': 'SAC'},\n",
    "            {'label': 'San Antonio Spurs', 'value': 'SAS'},\n",
    "            {'label': 'Toronto Raptors', 'value': 'TOR'},\n",
    "            {'label': 'Utah Jazz', 'value': 'UTA'},\n",
    "            {'label': 'Washington Wizards', 'value': 'WAS'}\n",
    "        ]"
   ]
  },
  {
   "cell_type": "code",
   "execution_count": 50,
   "metadata": {},
   "outputs": [],
   "source": [
    "language_labels=[\n",
    "            {'label': 'Linear Discrimenant Analysis ', 'value': 'LDA'},\n",
    "            {'label': 't-distributed stochastic neighbor embedding ', 'value':'TSNE'},\n",
    "            {'label': 'Principal Component Analysis ', 'value':'PCA'}\n",
    "]"
   ]
  },
  {
   "cell_type": "code",
   "execution_count": 51,
   "metadata": {},
   "outputs": [],
   "source": [
    "pca_labels =[\n",
    "            {'label': 'PC 1', 'value':0},\n",
    "            {'label': 'PC 2', 'value':1},\n",
    "            {'label': 'PC 3', 'value':2}\n",
    "]"
   ]
  },
  {
   "cell_type": "code",
   "execution_count": 52,
   "metadata": {},
   "outputs": [
    {
     "name": "stdout",
     "output_type": "stream",
     "text": [
      "Dash is running on http://127.0.0.1:8050/\n",
      "\n",
      "Dash is running on http://127.0.0.1:8050/\n",
      "\n",
      " * Serving Flask app \"__main__\" (lazy loading)\n",
      " * Environment: production\n",
      "\u001b[31m   WARNING: This is a development server. Do not use it in a production deployment.\u001b[0m\n",
      "\u001b[2m   Use a production WSGI server instead.\u001b[0m\n",
      " * Debug mode: on\n",
      "LDA\n",
      "LDA\n",
      "LDA\n",
      "LDA\n",
      "LDA\n",
      "LDA\n",
      "LDA\n"
     ]
    },
    {
     "name": "stderr",
     "output_type": "stream",
     "text": [
      "<ipython-input-12-6f003888d9ed>:7: RuntimeWarning:\n",
      "\n",
      "invalid value encountered in true_divide\n",
      "\n"
     ]
    },
    {
     "name": "stdout",
     "output_type": "stream",
     "text": [
      "LDA\n"
     ]
    },
    {
     "name": "stderr",
     "output_type": "stream",
     "text": [
      "<ipython-input-12-6f003888d9ed>:7: RuntimeWarning:\n",
      "\n",
      "invalid value encountered in true_divide\n",
      "\n"
     ]
    },
    {
     "name": "stdout",
     "output_type": "stream",
     "text": [
      "TSNE\n"
     ]
    },
    {
     "name": "stderr",
     "output_type": "stream",
     "text": [
      "<ipython-input-12-6f003888d9ed>:7: RuntimeWarning:\n",
      "\n",
      "invalid value encountered in true_divide\n",
      "\n"
     ]
    },
    {
     "name": "stdout",
     "output_type": "stream",
     "text": [
      "TSNE\n"
     ]
    },
    {
     "name": "stderr",
     "output_type": "stream",
     "text": [
      "<ipython-input-12-6f003888d9ed>:7: RuntimeWarning:\n",
      "\n",
      "invalid value encountered in true_divide\n",
      "\n"
     ]
    },
    {
     "name": "stdout",
     "output_type": "stream",
     "text": [
      "PCA\n"
     ]
    },
    {
     "name": "stderr",
     "output_type": "stream",
     "text": [
      "<ipython-input-12-6f003888d9ed>:7: RuntimeWarning:\n",
      "\n",
      "invalid value encountered in true_divide\n",
      "\n"
     ]
    },
    {
     "name": "stdout",
     "output_type": "stream",
     "text": [
      "PCA\n"
     ]
    },
    {
     "name": "stderr",
     "output_type": "stream",
     "text": [
      "<ipython-input-12-6f003888d9ed>:7: RuntimeWarning:\n",
      "\n",
      "invalid value encountered in true_divide\n",
      "\n"
     ]
    },
    {
     "name": "stdout",
     "output_type": "stream",
     "text": [
      "LDA\n"
     ]
    },
    {
     "name": "stderr",
     "output_type": "stream",
     "text": [
      "<ipython-input-12-6f003888d9ed>:7: RuntimeWarning:\n",
      "\n",
      "invalid value encountered in true_divide\n",
      "\n"
     ]
    },
    {
     "name": "stdout",
     "output_type": "stream",
     "text": [
      "LDA\n"
     ]
    }
   ],
   "source": [
    "import dash\n",
    "import dash_core_components as dcc\n",
    "import dash_html_components as html\n",
    "from dash.dependencies import Input, Output\n",
    "\n",
    "app = dash.Dash(__name__)\n",
    "app.layout = html.Div([\n",
    "    dcc.Graph(id=\"scatter-plot\"),\n",
    "    dcc.Graph(id=\"bar\"),\n",
    "    dcc.RadioItems(\n",
    "    options=language_labels,\n",
    "    id='ML_radio',\n",
    "    value='LDA',\n",
    "    labelStyle={'display': 'inline-block'}\n",
    "),  \n",
    "    dcc.Dropdown(\n",
    "        id='nba_dropdown',\n",
    "        options=team_labels,\n",
    "        value='OKC',\n",
    "        searchable=True\n",
    "    ),\n",
    "html.Div([\n",
    "   \n",
    "        html.Div([\n",
    "            dcc.Dropdown(\n",
    "            id='option1_drop',\n",
    "            options=pca_labels,\n",
    "            value=1,\n",
    "            )\n",
    "        ],\n",
    "        style={'width': '49%', 'display': 'inline-block'}),\n",
    "        \n",
    "        html.Div([\n",
    "            dcc.Dropdown(\n",
    "            id='option2_drop',\n",
    "            options=pca_labels,\n",
    "            value=2,\n",
    "            )\n",
    "        ],\n",
    "        style={'width': '49%', 'float' : 'right', 'display': 'inline-block'}), \n",
    "    ], style={\n",
    "        'borderBottom': 'thin lightgrey solid',\n",
    "        'backgroundColor': 'rgb(250, 250, 250)',\n",
    "        'padding': '10px 5px'\n",
    "    }),\n",
    "\n",
    "    dcc.RangeSlider(\n",
    "        id='range-slider',\n",
    "        min=2000, max=2020, step=None,\n",
    "        marks=dash_mark\n",
    "    ),\n",
    "])\n",
    "@app.callback(\n",
    "    [Output(\"scatter-plot\",\"figure\"), \n",
    "    Output(\"bar\",\"figure\")],\n",
    "    [ Input('nba_dropdown',\"value\"),\n",
    "     Input('ML_radio',\"value\"),\n",
    "      Input(\"range-slider\",\"value\"),\n",
    "     Input('option1_drop',\"value\"),\n",
    "     Input('option2_drop',\"value\")\n",
    "    ])\n",
    "\n",
    "def update_bar_chart(team,f,years_chosen,op1,op2):\n",
    "    \n",
    "    x_lda = get_lda(team,'2020-21',f,op1,op2)\n",
    "    #print(x_lda)\n",
    "    print(f)    \n",
    "    update=x_lda[(x_lda[:,0]>=years_chosen[0])&(x_lda[:,0]<=years_chosen[1])] \n",
    "    names = all_player_names(player_dict,update[:,1])\n",
    "    \n",
    "    fig = px.scatter(\n",
    "        update, x=update[:,4], y=update[:,5],\n",
    "        color = names,size = update[:,2].astype('int'),\n",
    "        color_discrete_sequence=[\"red\", \"green\", \"blue\", \"goldenrod\", \"pink\",\"black\",\"orchid\",\"gray\",\"yellow\",\"cyan\",\"purple\",\"orange\",\"teal\",\"beige\"],\n",
    "        labels={\n",
    "                     \"x\": f+ \" Component 1\",\n",
    "                     \"y\": f+ \" Component 2\",\n",
    "                     \"color\": \"Full Name\",\n",
    "                     \"size\" : \"Age\"\n",
    "                 },\n",
    "        title=\"NBA \"+f+\" Graph\"\n",
    "       )\n",
    "    \n",
    "    if (f=='PCA'):\n",
    "        fig.update_layout(xaxis_title='PCA'+ \" Component \" + str(op1+1),\n",
    "                   yaxis_title='PCA'+ \" Component \" + str(op2+1))\n",
    "    fig2 = px.bar(update, \n",
    "              x=update[:,0], \n",
    "              y=update[:,3],\n",
    "              barmode='group',\n",
    "              color=names,\n",
    "              color_discrete_sequence=[\"red\", \"green\", \"blue\", \"goldenrod\", \"pink\",\"black\",\"orchid\",\"gray\",\"yellow\",\"cyan\",\"purple\",\"orange\",\"teal\",\"beige\"],\n",
    "              labels={\n",
    "                     \"x\": \"Year\",\n",
    "                     \"y\": \"TSP\" ,\n",
    "                      \n",
    "                 },\n",
    "              title=\"True Shooting Percentage Comparison\"\n",
    "             )\n",
    "    return fig,fig2\n",
    "\n",
    "app.run_server(debug=True, use_reloader=False)  # Turn off reloader if inside Jupyter\n"
   ]
  },
  {
   "cell_type": "code",
   "execution_count": 53,
   "metadata": {},
   "outputs": [
    {
     "name": "stderr",
     "output_type": "stream",
     "text": [
      "No traceback available to show.\n"
     ]
    }
   ],
   "source": [
    "%tb"
   ]
  },
  {
   "cell_type": "code",
   "execution_count": null,
   "metadata": {},
   "outputs": [],
   "source": []
  }
 ],
 "metadata": {
  "kernelspec": {
   "display_name": "Python 3",
   "language": "python",
   "name": "python3"
  },
  "language_info": {
   "codemirror_mode": {
    "name": "ipython",
    "version": 3
   },
   "file_extension": ".py",
   "mimetype": "text/x-python",
   "name": "python",
   "nbconvert_exporter": "python",
   "pygments_lexer": "ipython3",
   "version": "3.8.8"
  }
 },
 "nbformat": 4,
 "nbformat_minor": 4
}
